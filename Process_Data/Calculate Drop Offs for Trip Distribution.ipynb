{
 "cells": [
  {
   "cell_type": "code",
   "execution_count": 2,
   "id": "0de0f32b-03aa-4bef-9af6-d117b1a5cfca",
   "metadata": {},
   "outputs": [],
   "source": [
    "import pandas as pd\n",
    "import numpy as np"
   ]
  },
  {
   "cell_type": "code",
   "execution_count": 3,
   "id": "7652b66d-b411-4e0f-80f3-4284fc0ae124",
   "metadata": {},
   "outputs": [],
   "source": [
    "pd.options.display.max_columns= 1000"
   ]
  },
  {
   "cell_type": "code",
   "execution_count": null,
   "id": "f567b6b9-b710-4493-a797-e350c5305042",
   "metadata": {},
   "outputs": [],
   "source": []
  }
 ],
 "metadata": {
  "kernelspec": {
   "display_name": "Python 3 (ipykernel)",
   "language": "python",
   "name": "python3"
  },
  "language_info": {
   "codemirror_mode": {
    "name": "ipython",
    "version": 3
   },
   "file_extension": ".py",
   "mimetype": "text/x-python",
   "name": "python",
   "nbconvert_exporter": "python",
   "pygments_lexer": "ipython3",
   "version": "3.12.3"
  }
 },
 "nbformat": 4,
 "nbformat_minor": 5
}
