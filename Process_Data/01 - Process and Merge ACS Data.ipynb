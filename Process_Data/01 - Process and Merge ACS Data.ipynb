{
 "cells": [
  {
   "cell_type": "code",
   "execution_count": 392,
   "id": "18f294f3-e6f4-46fb-a9bd-d352364a20c1",
   "metadata": {},
   "outputs": [],
   "source": [
    "import pandas as pd\n",
    "import numpy as np"
   ]
  },
  {
   "cell_type": "code",
   "execution_count": 393,
   "id": "5c494623-a304-493e-9fe4-3be70fd81df2",
   "metadata": {},
   "outputs": [],
   "source": [
    "pd.options.display.max_columns= 100"
   ]
  },
  {
   "cell_type": "code",
   "execution_count": null,
   "id": "99220332-548f-4695-a4d4-3c47eac6402e",
   "metadata": {},
   "outputs": [],
   "source": []
  },
  {
   "cell_type": "code",
   "execution_count": 394,
   "id": "7cb2211f-cd73-4e40-91c1-ba9863901bfc",
   "metadata": {},
   "outputs": [],
   "source": [
    "# process dp04 data"
   ]
  },
  {
   "cell_type": "code",
   "execution_count": 395,
   "id": "83684ca3-77b5-42a7-86db-db302517e279",
   "metadata": {},
   "outputs": [],
   "source": [
    "acs_dp04 = pd.read_csv('E:/CR2/Repos/TNC-Demand-Model-Southeast/Raw_Inputs/ACS/DP04/DP04.csv')"
   ]
  },
  {
   "cell_type": "code",
   "execution_count": 396,
   "id": "30fff68f-842a-49ed-8079-9be41edcd8f4",
   "metadata": {},
   "outputs": [],
   "source": [
    "acs_dp04[['TRACT', 'COUNTY', 'STATE']] = acs_dp04.NAME.str.split(',', expand=True)"
   ]
  },
  {
   "cell_type": "code",
   "execution_count": 397,
   "id": "16ccb9e7-d8c1-41bb-82c6-20df51efec34",
   "metadata": {},
   "outputs": [],
   "source": [
    "acs_dp04 = acs_dp04[acs_dp04['COUNTY'] == ' Fayette County']"
   ]
  },
  {
   "cell_type": "code",
   "execution_count": 398,
   "id": "f0227cdf-fddc-4b38-8df9-275b1f75b5f6",
   "metadata": {},
   "outputs": [],
   "source": [
    "acs_dp04['CENSUS_TRACT'] = acs_dp04.apply(lambda row: row['GEO_ID'][9:], axis = 1)"
   ]
  },
  {
   "cell_type": "code",
   "execution_count": 399,
   "id": "9cd60a0e-1864-431a-970e-2c0776261639",
   "metadata": {},
   "outputs": [],
   "source": [
    "rename = ['TOTAL_HHLDS', 'HHLDS_0_VEH', 'HHLDS_1_VEH', 'HHLDS_2_VEH', 'HHLDS_3P_VEH', 'CENSUS_TRACT']"
   ]
  },
  {
   "cell_type": "code",
   "execution_count": 400,
   "id": "47ab6853-a2eb-405a-a375-ee4b46a3e92c",
   "metadata": {},
   "outputs": [],
   "source": [
    "keep = ['DP04_0057E', 'DP04_0058E', 'DP04_0059E', 'DP04_0060E', 'DP04_0061E', 'CENSUS_TRACT']"
   ]
  },
  {
   "cell_type": "code",
   "execution_count": 401,
   "id": "c24d4403-7332-45a9-9b63-c93aab81456f",
   "metadata": {},
   "outputs": [],
   "source": [
    "acs_dp04 = acs_dp04[keep]"
   ]
  },
  {
   "cell_type": "code",
   "execution_count": 402,
   "id": "4da4be47-471a-4a5e-86ab-5fb7d0af6170",
   "metadata": {},
   "outputs": [],
   "source": [
    "acs_dp04.columns = rename"
   ]
  },
  {
   "cell_type": "code",
   "execution_count": 403,
   "id": "07b0b559-5852-4812-8710-6a08bd61d7d8",
   "metadata": {},
   "outputs": [],
   "source": [
    "#THIS ALL NEEDS TO GO IN THE MAIN SCRIPT\n",
    "## allows all data to be the same type to calculate\n",
    "\n",
    "acs_dp04['HHLDS_0_VEH'] = acs_dp04.HHLDS_0_VEH.astype(float)\n",
    "acs_dp04['HHLDS_1_VEH'] = acs_dp04.HHLDS_1_VEH.astype(float)\n",
    "acs_dp04['HHLDS_2_VEH'] = acs_dp04.HHLDS_2_VEH.astype(float)\n",
    "acs_dp04['HHLDS_3P_VEH'] = acs_dp04.HHLDS_3P_VEH.astype(float)\n",
    "acs_dp04['TOTAL_HHLDS'] = acs_dp04.TOTAL_HHLDS.astype(float)"
   ]
  },
  {
   "cell_type": "code",
   "execution_count": 404,
   "id": "d28fd6b8-be8c-4d13-93d0-d6dcd9e88475",
   "metadata": {},
   "outputs": [],
   "source": [
    "#THIS ALL NEEDS TO GO IN THE MAIN SCRIPT\n",
    "# calculates average vehicles per household\n",
    "\n",
    "def set_avg_veh_per_hhlds(row):\n",
    "    if row['TOTAL_HHLDS']  == 0:\n",
    "        veh = 0\n",
    "        \n",
    "    else:\n",
    "        veh = (row['HHLDS_0_VEH']*0 + row['HHLDS_1_VEH']*1 + row['HHLDS_2_VEH']*2 + row['HHLDS_3P_VEH']*3)/row['TOTAL_HHLDS']\n",
    "        \n",
    "    return veh"
   ]
  },
  {
   "cell_type": "code",
   "execution_count": 405,
   "id": "3f9d8951-8d4a-4b40-911d-1c40651db90b",
   "metadata": {},
   "outputs": [],
   "source": [
    "#THIS ALL NEEDS TO GO IN THE MAIN SCRIPT\n",
    "# adds average vehicles per household as column\n",
    "acs_dp04['AVG_VEH_PER_HHLD'] = acs_dp04.apply(lambda row: set_avg_veh_per_hhlds(row), axis = 1)"
   ]
  },
  {
   "cell_type": "code",
   "execution_count": null,
   "id": "9383cade-c201-4257-a634-e40bb2a163bb",
   "metadata": {},
   "outputs": [],
   "source": []
  },
  {
   "cell_type": "code",
   "execution_count": 406,
   "id": "c5e45698-b192-4510-b9f3-f6c8dd2f2c82",
   "metadata": {},
   "outputs": [],
   "source": [
    "# process dp05 data"
   ]
  },
  {
   "cell_type": "code",
   "execution_count": 407,
   "id": "361c841d-e25d-47d7-a086-16977170c268",
   "metadata": {},
   "outputs": [],
   "source": [
    "acs_dp05 = pd.read_csv('E:/CR2/Repos/TNC-Demand-Model-Southeast/Raw_Inputs/ACS/DP05/DP05.csv')"
   ]
  },
  {
   "cell_type": "code",
   "execution_count": 408,
   "id": "0f66b578-aadc-48b2-84d2-7196435dce61",
   "metadata": {},
   "outputs": [],
   "source": [
    "acs_dp05[['TRACT', 'COUNTY', 'STATE']] = acs_dp05.NAME.str.split(',', expand=True)"
   ]
  },
  {
   "cell_type": "code",
   "execution_count": 409,
   "id": "f44d4a30-33ad-4a7a-b0a1-bfbaa4a391d4",
   "metadata": {},
   "outputs": [],
   "source": [
    "acs_dp05 = acs_dp05[acs_dp05['COUNTY'] == ' Fayette County']"
   ]
  },
  {
   "cell_type": "code",
   "execution_count": 410,
   "id": "48bbb896-b015-45a6-bceb-9fbb8925293d",
   "metadata": {},
   "outputs": [],
   "source": [
    "acs_dp05['CENSUS_TRACT'] = acs_dp05.apply(lambda row: row['GEO_ID'][9:], axis = 1)"
   ]
  },
  {
   "cell_type": "code",
   "execution_count": 411,
   "id": "0c690512-d68d-41cf-a183-0d42dc5e3f28",
   "metadata": {},
   "outputs": [],
   "source": [
    "acs_dp05 = acs_dp05.rename(columns={'DP05_0018E': 'MEDIAN_AGE'})"
   ]
  },
  {
   "cell_type": "code",
   "execution_count": 412,
   "id": "9bce97fc-20b5-4b63-8dc4-ad89b88d520e",
   "metadata": {},
   "outputs": [],
   "source": [
    "acs_dp05 = acs_dp05[['MEDIAN_AGE', 'CENSUS_TRACT']]"
   ]
  },
  {
   "cell_type": "code",
   "execution_count": null,
   "id": "46a25078-5b4a-439f-ba6c-ab9500de7be0",
   "metadata": {},
   "outputs": [],
   "source": []
  },
  {
   "cell_type": "code",
   "execution_count": 413,
   "id": "241741a0-a976-4f74-b3e6-b9ad60a2cd9a",
   "metadata": {},
   "outputs": [],
   "source": [
    "# process S1101 data"
   ]
  },
  {
   "cell_type": "code",
   "execution_count": 414,
   "id": "b29cd9f1-075b-49ea-b581-8816b7cf5aa9",
   "metadata": {},
   "outputs": [],
   "source": [
    "acs_s1101 = pd.read_csv('E:/CR2/Repos/TNC-Demand-Model-Southeast/Raw_Inputs/ACS/S1101/S1101.csv')"
   ]
  },
  {
   "cell_type": "code",
   "execution_count": 415,
   "id": "c88d338e-3368-483a-ab1b-22127948a818",
   "metadata": {},
   "outputs": [],
   "source": [
    "acs_s1101[['TRACT', 'COUNTY', 'STATE']] = acs_s1101.NAME.str.split(',', expand=True)"
   ]
  },
  {
   "cell_type": "code",
   "execution_count": 416,
   "id": "629e9876-9887-4b88-8f0e-d38c65712847",
   "metadata": {},
   "outputs": [],
   "source": [
    "acs_s1101 = acs_s1101[acs_s1101['COUNTY'] == ' Fayette County']"
   ]
  },
  {
   "cell_type": "code",
   "execution_count": 417,
   "id": "3f6b0008-481f-43a6-a325-eb4bfe37ed8e",
   "metadata": {},
   "outputs": [],
   "source": [
    "acs_s1101['CENSUS_TRACT'] = acs_s1101.apply(lambda row: row['GEO_ID'][9:], axis = 1)"
   ]
  },
  {
   "cell_type": "code",
   "execution_count": 418,
   "id": "b899f97c-4ca7-438c-af07-4d4a9c26af79",
   "metadata": {},
   "outputs": [],
   "source": [
    "keep = ['S1101_C01_001E', 'S1101_C01_002E', 'S1101_C01_004E', 'CENSUS_TRACT']"
   ]
  },
  {
   "cell_type": "code",
   "execution_count": 419,
   "id": "0629a713-ed5d-42ab-83d0-98d650c8a6f3",
   "metadata": {},
   "outputs": [],
   "source": [
    "rename = ['TOTAL_HHLDS', 'AVG_HHLD_SIZE', 'AVG_FAMILY_SIZE', 'CENSUS_TRACT']"
   ]
  },
  {
   "cell_type": "code",
   "execution_count": 420,
   "id": "4efc052d-36ec-45aa-945b-9e6b674696fd",
   "metadata": {},
   "outputs": [],
   "source": [
    "acs_s1101 = acs_s1101[keep]\n",
    "acs_s1101.columns = rename"
   ]
  },
  {
   "cell_type": "code",
   "execution_count": null,
   "id": "beaa9d9f-6b59-4d1f-af25-299dea0917d7",
   "metadata": {},
   "outputs": [],
   "source": []
  },
  {
   "cell_type": "code",
   "execution_count": 421,
   "id": "b2282f3e-43d9-4541-a027-f19bb573fa5c",
   "metadata": {},
   "outputs": [],
   "source": [
    "# Process S1501 Data"
   ]
  },
  {
   "cell_type": "code",
   "execution_count": 422,
   "id": "5e24868d-124f-43f9-90c3-80486fc4ff39",
   "metadata": {},
   "outputs": [],
   "source": [
    "acs_s1501 = pd.read_csv('E:/CR2/Repos/TNC-Demand-Model-Southeast/Raw_Inputs/ACS/S1501/S1501.csv')"
   ]
  },
  {
   "cell_type": "code",
   "execution_count": 423,
   "id": "66b1724b-8888-4a8b-972b-147422f326ea",
   "metadata": {},
   "outputs": [],
   "source": [
    "acs_s1501[['TRACT', 'COUNTY', 'STATE']] = acs_s1501.NAME.str.split(',', expand=True)"
   ]
  },
  {
   "cell_type": "code",
   "execution_count": 424,
   "id": "e894933e-c384-48f2-bee2-0dbe75ea1d9c",
   "metadata": {},
   "outputs": [],
   "source": [
    "acs_s1501 = acs_s1501[acs_s1501['COUNTY'] == ' Fayette County']"
   ]
  },
  {
   "cell_type": "code",
   "execution_count": 425,
   "id": "7a7adf14-3f57-45ee-aff6-08619a3bf4f9",
   "metadata": {},
   "outputs": [],
   "source": [
    "acs_s1501['CENSUS_TRACT'] = acs_s1501.apply(lambda row: row['GEO_ID'][9:], axis = 1)"
   ]
  },
  {
   "cell_type": "code",
   "execution_count": 426,
   "id": "432fc88e-c5a7-4e8d-9a49-c814aee3e4a0",
   "metadata": {},
   "outputs": [],
   "source": [
    "keep = ['S1501_C01_001E', 'S1501_C01_002E', 'S1501_C01_003E', 'S1501_C01_004E', 'S1501_C01_005E', 'S1501_C01_006E', 'S1501_C01_007E', 'S1501_C01_008E', 'S1501_C01_009E', 'S1501_C01_010E', 'S1501_C01_011E', 'S1501_C01_012E', 'S1501_C01_013E', 'S1501_C01_014E', 'S1501_C01_015E','CENSUS_TRACT']"
   ]
  },
  {
   "cell_type": "code",
   "execution_count": 427,
   "id": "62a1100c-b329-4125-8839-b6869b66f7db",
   "metadata": {},
   "outputs": [],
   "source": [
    "rename = ['TOTAL_POP_18_24', 'TOTAL_POP_18_24_NO_HIGH_SCHOOL', 'TOTAL_POP_18_24_HIGH_SCHOOL', 'TOTAL_POP_18_24_SOME_COLLEGE', 'TOTAL_POP_18_24_SOME_BACHELORS_HIGHER', 'TOTAL_POP_25P', 'TOTAL_POP_25P_LESS_THAN_9TH', 'TOTAL_POP_25P_9TH_TO_12TH', 'TOTAL_POP_25P_HIGH_SCHOOL', 'TOTAL_POP_25P_SOME_COLLEGE', 'TOTAL_POP_25P_ASSOCIATES', 'TOTAL_POP_25P_BACHELORS', 'TOTAL_POP_25P_GRADUATE', 'TOTAL_POP_25P_HIGH_SCHOOL_HIGHER', 'TOTAL_POP_25P_BACHELORS_HIGHER','CENSUS_TRACT']"
   ]
  },
  {
   "cell_type": "code",
   "execution_count": 428,
   "id": "fbd30ae9-57a2-4852-969e-e4c4e6d93f36",
   "metadata": {},
   "outputs": [],
   "source": [
    "acs_s1501 = acs_s1501[keep]\n",
    "acs_s1501.columns = rename"
   ]
  },
  {
   "cell_type": "code",
   "execution_count": 429,
   "id": "8844bc75-add3-4b06-afa2-5ff6cc554a0f",
   "metadata": {},
   "outputs": [],
   "source": [
    "# combine bachelors+ columns and drop the rest"
   ]
  },
  {
   "cell_type": "code",
   "execution_count": 430,
   "id": "73bb7235-12f3-498d-8728-43bf73307d17",
   "metadata": {},
   "outputs": [],
   "source": [
    "acs_s1501['TOTAL_POP_25P_GRADUATE'] = acs_s1501['TOTAL_POP_25P_GRADUATE'].astype(float)\n",
    "acs_s1501['TOTAL_POP_25P_BACHELORS_HIGHER'] = acs_s1501['TOTAL_POP_25P_BACHELORS_HIGHER'].astype(float)"
   ]
  },
  {
   "cell_type": "code",
   "execution_count": 431,
   "id": "a4a15226-e92e-4e8e-ab77-e3bca77d254b",
   "metadata": {},
   "outputs": [],
   "source": [
    "acs_s1501['P_BACH_25P'] = acs_s1501['TOTAL_POP_25P_GRADUATE'] + acs_s1501['TOTAL_POP_25P_BACHELORS_HIGHER']"
   ]
  },
  {
   "cell_type": "code",
   "execution_count": 432,
   "id": "745fac2b-3356-4c5d-b702-14a4035eeff7",
   "metadata": {},
   "outputs": [],
   "source": [
    "acs_s1501 = acs_s1501[['CENSUS_TRACT', 'P_BACH_25P']]"
   ]
  },
  {
   "cell_type": "code",
   "execution_count": null,
   "id": "8cf5b43e-a6d4-4145-9357-4f8e2bd1ee69",
   "metadata": {},
   "outputs": [],
   "source": []
  },
  {
   "cell_type": "code",
   "execution_count": 433,
   "id": "30ad6891-168a-4538-87f3-efd78bdc451f",
   "metadata": {},
   "outputs": [],
   "source": [
    "# Process S1901 Data"
   ]
  },
  {
   "cell_type": "code",
   "execution_count": 434,
   "id": "63bf3f11-3e51-4794-a213-5ab49a6c24b9",
   "metadata": {},
   "outputs": [],
   "source": [
    "acs_s1901 = pd.read_csv('E:/CR2/Repos/TNC-Demand-Model-Southeast/Raw_Inputs/ACS/S1901/S1901.csv')"
   ]
  },
  {
   "cell_type": "code",
   "execution_count": 435,
   "id": "11cbf617-9f69-4244-866f-b032f776a785",
   "metadata": {},
   "outputs": [],
   "source": [
    "acs_s1901[['TRACT', 'COUNTY', 'STATE']] = acs_s1901.NAME.str.split(',', expand=True)"
   ]
  },
  {
   "cell_type": "code",
   "execution_count": 436,
   "id": "f3138964-5327-48ca-a90d-112df7e3d5b6",
   "metadata": {},
   "outputs": [],
   "source": [
    "acs_s1901 = acs_s1901[acs_s1901['COUNTY'] == ' Fayette County']"
   ]
  },
  {
   "cell_type": "code",
   "execution_count": 437,
   "id": "ad74c3eb-5c87-4e0f-a815-f525b60f0fc4",
   "metadata": {},
   "outputs": [],
   "source": [
    "acs_s1901['CENSUS_TRACT'] = acs_s1901.apply(lambda row: row['GEO_ID'][9:], axis = 1)"
   ]
  },
  {
   "cell_type": "code",
   "execution_count": 438,
   "id": "a009c7dd-e645-41c4-8ca1-0e08cff5f0ae",
   "metadata": {},
   "outputs": [],
   "source": [
    "keep = ['S1901_C01_002E', 'S1901_C01_003E', 'S1901_C01_004E', 'S1901_C01_005E', 'S1901_C01_006E', 'S1901_C01_007E', 'S1901_C01_008E', 'S1901_C01_009E', 'S1901_C01_010E', 'S1901_C01_011E', 'S1901_C01_012E', 'S1901_C01_012E','CENSUS_TRACT']"
   ]
  },
  {
   "cell_type": "code",
   "execution_count": 439,
   "id": "8906c9d9-a2fb-4eaa-a90a-c5bf867985a3",
   "metadata": {},
   "outputs": [],
   "source": [
    "rename = ['TOTAL_HHLDS_LESS_10K', 'TOTAL_HHLDS_10K_15K', 'TOTAL_HHLDS_15K_25K', 'TOTAL_HHLDS_25K_35K', 'TOTAL_HHLDS_35K_50K', 'TOTAL_HHLDS_50K_75K', 'TOTAL_HHLDS_75K_100K', 'TOTAL_HHLDS_100K_150K', 'TOTAL_HHLDS_150K_200K', 'TOTAL_HHLDS_200KP', 'HHLDS_MEDIAN_INCOME', 'HHLDS_MEAN_INCOME','CENSUS_TRACT']"
   ]
  },
  {
   "cell_type": "code",
   "execution_count": 440,
   "id": "c2ab87fa-c423-449a-986a-10ef37a5d353",
   "metadata": {},
   "outputs": [],
   "source": [
    "acs_s1901 = acs_s1901[keep]\n",
    "acs_s1901.columns = rename"
   ]
  },
  {
   "cell_type": "code",
   "execution_count": 441,
   "id": "5e576afd-d379-41e1-a12a-732377d3b95d",
   "metadata": {},
   "outputs": [],
   "source": [
    "# combines S1901 columns into HIGH_INC and LOW_INC, then drops the rest"
   ]
  },
  {
   "cell_type": "code",
   "execution_count": 442,
   "id": "440ad653-3637-47fb-b625-69683004e614",
   "metadata": {},
   "outputs": [],
   "source": [
    "low_income = ['TOTAL_HHLDS_LESS_10K', 'TOTAL_HHLDS_10K_15K', 'TOTAL_HHLDS_15K_25K', 'TOTAL_HHLDS_25K_35K', 'TOTAL_HHLDS_35K_50K', 'TOTAL_HHLDS_50K_75K', 'TOTAL_HHLDS_75K_100K']"
   ]
  },
  {
   "cell_type": "code",
   "execution_count": 443,
   "id": "c12362ce-c369-4784-a06b-da0d9a96d608",
   "metadata": {},
   "outputs": [],
   "source": [
    "high_income = ['TOTAL_HHLDS_100K_150K', 'TOTAL_HHLDS_150K_200K', 'TOTAL_HHLDS_200KP']"
   ]
  },
  {
   "cell_type": "code",
   "execution_count": 444,
   "id": "ccbdde6f-60a7-49e7-98c8-aa6254dc6f0f",
   "metadata": {},
   "outputs": [],
   "source": [
    "acs_s1901[low_income] = acs_s1901[low_income].astype(float)"
   ]
  },
  {
   "cell_type": "code",
   "execution_count": 445,
   "id": "7fba076b-b568-44f2-ab46-5d624f620218",
   "metadata": {},
   "outputs": [],
   "source": [
    "acs_s1901[high_income] = acs_s1901[high_income].astype(float)"
   ]
  },
  {
   "cell_type": "code",
   "execution_count": 446,
   "id": "4d3b07e7-6218-428e-a72b-479410e05b7a",
   "metadata": {},
   "outputs": [],
   "source": [
    "acs_s1901['LOW_INC'] = (acs_s1901['TOTAL_HHLDS_LESS_10K'] + acs_s1901['TOTAL_HHLDS_10K_15K'] + acs_s1901['TOTAL_HHLDS_15K_25K'] + acs_s1901['TOTAL_HHLDS_25K_35K'] + acs_s1901['TOTAL_HHLDS_35K_50K'] + acs_s1901['TOTAL_HHLDS_50K_75K'] + acs_s1901['TOTAL_HHLDS_75K_100K'])"
   ]
  },
  {
   "cell_type": "code",
   "execution_count": 447,
   "id": "817414e2-90aa-4519-9d9d-a82098846d3f",
   "metadata": {},
   "outputs": [],
   "source": [
    "acs_s1901['HIGH_INC'] = (acs_s1901['TOTAL_HHLDS_100K_150K'] + acs_s1901['TOTAL_HHLDS_150K_200K'] + acs_s1901['TOTAL_HHLDS_200KP'])"
   ]
  },
  {
   "cell_type": "code",
   "execution_count": 448,
   "id": "97e9af0f-0633-41be-a7ad-e1232def1db3",
   "metadata": {},
   "outputs": [],
   "source": [
    "acs_s1901 = acs_s1901[['LOW_INC', 'HIGH_INC', 'CENSUS_TRACT']]"
   ]
  },
  {
   "cell_type": "code",
   "execution_count": null,
   "id": "81c88fc7-2d55-48cd-abed-429a5d12a50f",
   "metadata": {},
   "outputs": [],
   "source": []
  },
  {
   "cell_type": "code",
   "execution_count": null,
   "id": "8ed3c386-ac4a-43e2-b94f-03549accc3c3",
   "metadata": {},
   "outputs": [],
   "source": []
  },
  {
   "cell_type": "code",
   "execution_count": 449,
   "id": "f30add67-5f70-4147-9550-42a68d9fc8be",
   "metadata": {},
   "outputs": [],
   "source": [
    "## combines ACS data into one dataframe\n",
    "\n",
    "acs = acs_dp05.merge(acs_s1101, on = 'CENSUS_TRACT', suffixes = ('_DP05', '_S1101'))\n",
    "acs = acs.merge(acs_s1501, on = 'CENSUS_TRACT', suffixes = ('', '_S1501'))\n",
    "acs = acs.merge(acs_s1901, on = 'CENSUS_TRACT', suffixes = ('', '_S1901'))\n",
    "acs = acs.merge(acs_dp04, on = 'CENSUS_TRACT', suffixes = ('', '_DP04'))"
   ]
  },
  {
   "cell_type": "code",
   "execution_count": 450,
   "id": "32a1fcad-c9ee-4953-9dd0-03e73dfbe02f",
   "metadata": {},
   "outputs": [],
   "source": [
    "acs['TOTAL_HHLDS'] = acs['TOTAL_HHLDS'].astype(float)"
   ]
  },
  {
   "cell_type": "code",
   "execution_count": 451,
   "id": "688b2946-f42f-4040-a3ea-f576388b156d",
   "metadata": {},
   "outputs": [],
   "source": [
    "def income_and_vehicles_household(df, total, income, hhlds_veh):\n",
    "\n",
    "    # probability of income, and vehicles per household\n",
    "    df['income_prob'] = df[income] / df[total]\n",
    "    df['hhlds_prob'] = df[hhlds_veh] / df[total]\n",
    "\n",
    "    # gets probability for both\n",
    "    df['both_prob'] = df['income_prob'] * df['hhlds_prob']\n",
    "\n",
    "    # calculates number of households with given income and vehicles per household\n",
    "    df['income_and_vehicles'] = df['both_prob'] * df[total]\n",
    "    acs.drop(columns=['income_prob', 'hhlds_prob', 'both_prob'])\n",
    "    \n",
    "    return df['income_and_vehicles']\n"
   ]
  },
  {
   "cell_type": "code",
   "execution_count": 452,
   "id": "e4040899-9032-451d-ac2c-3be86cb09344",
   "metadata": {},
   "outputs": [],
   "source": [
    "acs['HI_INC_0'] = income_and_vehicles_household(acs,'TOTAL_HHLDS', 'HIGH_INC', 'HHLDS_0_VEH')"
   ]
  },
  {
   "cell_type": "code",
   "execution_count": 453,
   "id": "05a780dc-0a2e-44bc-991d-df2586cf5585",
   "metadata": {},
   "outputs": [],
   "source": [
    "acs['LOW_INC_0'] = income_and_vehicles_household(acs,'TOTAL_HHLDS', 'LOW_INC', 'HHLDS_0_VEH')"
   ]
  },
  {
   "cell_type": "code",
   "execution_count": 454,
   "id": "674ced19-70ac-416d-9a0c-2b0859778553",
   "metadata": {},
   "outputs": [],
   "source": [
    "acs['LOW_INC_1P'] = income_and_vehicles_household(acs,'TOTAL_HHLDS', 'LOW_INC', 'HHLDS_1_VEH')"
   ]
  },
  {
   "cell_type": "code",
   "execution_count": 455,
   "id": "3da0be70-88a3-4fcd-9d93-e4aa62fb37fb",
   "metadata": {},
   "outputs": [],
   "source": [
    "acs['HI_INC_1P'] = income_and_vehicles_household(acs,'TOTAL_HHLDS', 'HIGH_INC', 'HHLDS_1_VEH')"
   ]
  },
  {
   "cell_type": "code",
   "execution_count": null,
   "id": "45957407-ec7b-4cdb-8e5d-4cd8e795fcf1",
   "metadata": {},
   "outputs": [],
   "source": []
  },
  {
   "cell_type": "code",
   "execution_count": 456,
   "id": "af178194-8b45-4471-8f93-43d261c24274",
   "metadata": {},
   "outputs": [
    {
     "data": {
      "text/html": [
       "<div>\n",
       "<style scoped>\n",
       "    .dataframe tbody tr th:only-of-type {\n",
       "        vertical-align: middle;\n",
       "    }\n",
       "\n",
       "    .dataframe tbody tr th {\n",
       "        vertical-align: top;\n",
       "    }\n",
       "\n",
       "    .dataframe thead th {\n",
       "        text-align: right;\n",
       "    }\n",
       "</style>\n",
       "<table border=\"1\" class=\"dataframe\">\n",
       "  <thead>\n",
       "    <tr style=\"text-align: right;\">\n",
       "      <th></th>\n",
       "      <th>MEDIAN_AGE</th>\n",
       "      <th>CENSUS_TRACT</th>\n",
       "      <th>TOTAL_HHLDS</th>\n",
       "      <th>AVG_HHLD_SIZE</th>\n",
       "      <th>AVG_FAMILY_SIZE</th>\n",
       "      <th>P_BACH_25P</th>\n",
       "      <th>LOW_INC</th>\n",
       "      <th>HIGH_INC</th>\n",
       "      <th>TOTAL_HHLDS_DP04</th>\n",
       "      <th>HHLDS_0_VEH</th>\n",
       "      <th>HHLDS_1_VEH</th>\n",
       "      <th>HHLDS_2_VEH</th>\n",
       "      <th>HHLDS_3P_VEH</th>\n",
       "      <th>AVG_VEH_PER_HHLD</th>\n",
       "      <th>HI_INC_0</th>\n",
       "      <th>LOW_INC_0</th>\n",
       "      <th>LOW_INC_1P</th>\n",
       "      <th>HI_INC_1P</th>\n",
       "    </tr>\n",
       "  </thead>\n",
       "  <tbody>\n",
       "    <tr>\n",
       "      <th>0</th>\n",
       "      <td>31.0</td>\n",
       "      <td>21067000101</td>\n",
       "      <td>1993.0</td>\n",
       "      <td>1.52</td>\n",
       "      <td>2.40</td>\n",
       "      <td>1478.0</td>\n",
       "      <td>85.5</td>\n",
       "      <td>14.5</td>\n",
       "      <td>1993.0</td>\n",
       "      <td>646.0</td>\n",
       "      <td>950.0</td>\n",
       "      <td>358.0</td>\n",
       "      <td>39.0</td>\n",
       "      <td>0.894631</td>\n",
       "      <td>4.699950</td>\n",
       "      <td>27.713497</td>\n",
       "      <td>40.755143</td>\n",
       "      <td>6.911691</td>\n",
       "    </tr>\n",
       "    <tr>\n",
       "      <th>1</th>\n",
       "      <td>52.4</td>\n",
       "      <td>21067000102</td>\n",
       "      <td>984.0</td>\n",
       "      <td>1.44</td>\n",
       "      <td>2.70</td>\n",
       "      <td>799.0</td>\n",
       "      <td>84.1</td>\n",
       "      <td>15.8</td>\n",
       "      <td>984.0</td>\n",
       "      <td>323.0</td>\n",
       "      <td>478.0</td>\n",
       "      <td>129.0</td>\n",
       "      <td>54.0</td>\n",
       "      <td>0.912602</td>\n",
       "      <td>5.186382</td>\n",
       "      <td>27.605996</td>\n",
       "      <td>40.853455</td>\n",
       "      <td>7.675203</td>\n",
       "    </tr>\n",
       "    <tr>\n",
       "      <th>2</th>\n",
       "      <td>24.1</td>\n",
       "      <td>21067000200</td>\n",
       "      <td>1225.0</td>\n",
       "      <td>2.37</td>\n",
       "      <td>3.33</td>\n",
       "      <td>568.0</td>\n",
       "      <td>91.7</td>\n",
       "      <td>8.4</td>\n",
       "      <td>1225.0</td>\n",
       "      <td>355.0</td>\n",
       "      <td>449.0</td>\n",
       "      <td>290.0</td>\n",
       "      <td>131.0</td>\n",
       "      <td>1.160816</td>\n",
       "      <td>2.434286</td>\n",
       "      <td>26.574286</td>\n",
       "      <td>33.610857</td>\n",
       "      <td>3.078857</td>\n",
       "    </tr>\n",
       "    <tr>\n",
       "      <th>3</th>\n",
       "      <td>36.8</td>\n",
       "      <td>21067000300</td>\n",
       "      <td>1249.0</td>\n",
       "      <td>2.17</td>\n",
       "      <td>2.89</td>\n",
       "      <td>403.0</td>\n",
       "      <td>91.7</td>\n",
       "      <td>8.2</td>\n",
       "      <td>1249.0</td>\n",
       "      <td>227.0</td>\n",
       "      <td>595.0</td>\n",
       "      <td>307.0</td>\n",
       "      <td>120.0</td>\n",
       "      <td>1.256205</td>\n",
       "      <td>1.490312</td>\n",
       "      <td>16.666053</td>\n",
       "      <td>43.684147</td>\n",
       "      <td>3.906325</td>\n",
       "    </tr>\n",
       "    <tr>\n",
       "      <th>4</th>\n",
       "      <td>32.8</td>\n",
       "      <td>21067000400</td>\n",
       "      <td>784.0</td>\n",
       "      <td>2.48</td>\n",
       "      <td>3.12</td>\n",
       "      <td>134.0</td>\n",
       "      <td>95.6</td>\n",
       "      <td>4.4</td>\n",
       "      <td>784.0</td>\n",
       "      <td>215.0</td>\n",
       "      <td>321.0</td>\n",
       "      <td>186.0</td>\n",
       "      <td>62.0</td>\n",
       "      <td>1.121173</td>\n",
       "      <td>1.206633</td>\n",
       "      <td>26.216837</td>\n",
       "      <td>39.142347</td>\n",
       "      <td>1.801531</td>\n",
       "    </tr>\n",
       "    <tr>\n",
       "      <th>...</th>\n",
       "      <td>...</td>\n",
       "      <td>...</td>\n",
       "      <td>...</td>\n",
       "      <td>...</td>\n",
       "      <td>...</td>\n",
       "      <td>...</td>\n",
       "      <td>...</td>\n",
       "      <td>...</td>\n",
       "      <td>...</td>\n",
       "      <td>...</td>\n",
       "      <td>...</td>\n",
       "      <td>...</td>\n",
       "      <td>...</td>\n",
       "      <td>...</td>\n",
       "      <td>...</td>\n",
       "      <td>...</td>\n",
       "      <td>...</td>\n",
       "      <td>...</td>\n",
       "    </tr>\n",
       "    <tr>\n",
       "      <th>77</th>\n",
       "      <td>42.9</td>\n",
       "      <td>21067004205</td>\n",
       "      <td>2629.0</td>\n",
       "      <td>2.61</td>\n",
       "      <td>3.02</td>\n",
       "      <td>4175.0</td>\n",
       "      <td>50.7</td>\n",
       "      <td>49.3</td>\n",
       "      <td>2629.0</td>\n",
       "      <td>0.0</td>\n",
       "      <td>635.0</td>\n",
       "      <td>1404.0</td>\n",
       "      <td>590.0</td>\n",
       "      <td>1.982883</td>\n",
       "      <td>0.000000</td>\n",
       "      <td>0.000000</td>\n",
       "      <td>12.245911</td>\n",
       "      <td>11.907760</td>\n",
       "    </tr>\n",
       "    <tr>\n",
       "      <th>78</th>\n",
       "      <td>49.1</td>\n",
       "      <td>21067004207</td>\n",
       "      <td>1485.0</td>\n",
       "      <td>2.61</td>\n",
       "      <td>2.95</td>\n",
       "      <td>2717.0</td>\n",
       "      <td>37.2</td>\n",
       "      <td>62.9</td>\n",
       "      <td>1485.0</td>\n",
       "      <td>0.0</td>\n",
       "      <td>285.0</td>\n",
       "      <td>760.0</td>\n",
       "      <td>440.0</td>\n",
       "      <td>2.104377</td>\n",
       "      <td>0.000000</td>\n",
       "      <td>0.000000</td>\n",
       "      <td>7.139394</td>\n",
       "      <td>12.071717</td>\n",
       "    </tr>\n",
       "    <tr>\n",
       "      <th>79</th>\n",
       "      <td>42.5</td>\n",
       "      <td>21067004208</td>\n",
       "      <td>2677.0</td>\n",
       "      <td>2.62</td>\n",
       "      <td>3.00</td>\n",
       "      <td>4472.0</td>\n",
       "      <td>43.7</td>\n",
       "      <td>56.2</td>\n",
       "      <td>2677.0</td>\n",
       "      <td>13.0</td>\n",
       "      <td>787.0</td>\n",
       "      <td>1372.0</td>\n",
       "      <td>505.0</td>\n",
       "      <td>1.884946</td>\n",
       "      <td>0.272917</td>\n",
       "      <td>0.212215</td>\n",
       "      <td>12.847180</td>\n",
       "      <td>16.522002</td>\n",
       "    </tr>\n",
       "    <tr>\n",
       "      <th>80</th>\n",
       "      <td>35.2</td>\n",
       "      <td>21067004209</td>\n",
       "      <td>1617.0</td>\n",
       "      <td>2.74</td>\n",
       "      <td>3.21</td>\n",
       "      <td>2021.0</td>\n",
       "      <td>64.5</td>\n",
       "      <td>35.5</td>\n",
       "      <td>1617.0</td>\n",
       "      <td>9.0</td>\n",
       "      <td>543.0</td>\n",
       "      <td>677.0</td>\n",
       "      <td>388.0</td>\n",
       "      <td>1.893012</td>\n",
       "      <td>0.197588</td>\n",
       "      <td>0.358998</td>\n",
       "      <td>21.659555</td>\n",
       "      <td>11.921150</td>\n",
       "    </tr>\n",
       "    <tr>\n",
       "      <th>81</th>\n",
       "      <td>33.0</td>\n",
       "      <td>21067004210</td>\n",
       "      <td>1995.0</td>\n",
       "      <td>2.74</td>\n",
       "      <td>3.43</td>\n",
       "      <td>2748.0</td>\n",
       "      <td>64.8</td>\n",
       "      <td>35.4</td>\n",
       "      <td>1995.0</td>\n",
       "      <td>0.0</td>\n",
       "      <td>602.0</td>\n",
       "      <td>983.0</td>\n",
       "      <td>410.0</td>\n",
       "      <td>1.903759</td>\n",
       "      <td>0.000000</td>\n",
       "      <td>0.000000</td>\n",
       "      <td>19.553684</td>\n",
       "      <td>10.682105</td>\n",
       "    </tr>\n",
       "  </tbody>\n",
       "</table>\n",
       "<p>82 rows × 18 columns</p>\n",
       "</div>"
      ],
      "text/plain": [
       "   MEDIAN_AGE CENSUS_TRACT  TOTAL_HHLDS AVG_HHLD_SIZE AVG_FAMILY_SIZE  \\\n",
       "0        31.0  21067000101       1993.0          1.52            2.40   \n",
       "1        52.4  21067000102        984.0          1.44            2.70   \n",
       "2        24.1  21067000200       1225.0          2.37            3.33   \n",
       "3        36.8  21067000300       1249.0          2.17            2.89   \n",
       "4        32.8  21067000400        784.0          2.48            3.12   \n",
       "..        ...          ...          ...           ...             ...   \n",
       "77       42.9  21067004205       2629.0          2.61            3.02   \n",
       "78       49.1  21067004207       1485.0          2.61            2.95   \n",
       "79       42.5  21067004208       2677.0          2.62            3.00   \n",
       "80       35.2  21067004209       1617.0          2.74            3.21   \n",
       "81       33.0  21067004210       1995.0          2.74            3.43   \n",
       "\n",
       "    P_BACH_25P  LOW_INC  HIGH_INC  TOTAL_HHLDS_DP04  HHLDS_0_VEH  HHLDS_1_VEH  \\\n",
       "0       1478.0     85.5      14.5            1993.0        646.0        950.0   \n",
       "1        799.0     84.1      15.8             984.0        323.0        478.0   \n",
       "2        568.0     91.7       8.4            1225.0        355.0        449.0   \n",
       "3        403.0     91.7       8.2            1249.0        227.0        595.0   \n",
       "4        134.0     95.6       4.4             784.0        215.0        321.0   \n",
       "..         ...      ...       ...               ...          ...          ...   \n",
       "77      4175.0     50.7      49.3            2629.0          0.0        635.0   \n",
       "78      2717.0     37.2      62.9            1485.0          0.0        285.0   \n",
       "79      4472.0     43.7      56.2            2677.0         13.0        787.0   \n",
       "80      2021.0     64.5      35.5            1617.0          9.0        543.0   \n",
       "81      2748.0     64.8      35.4            1995.0          0.0        602.0   \n",
       "\n",
       "    HHLDS_2_VEH  HHLDS_3P_VEH  AVG_VEH_PER_HHLD  HI_INC_0  LOW_INC_0  \\\n",
       "0         358.0          39.0          0.894631  4.699950  27.713497   \n",
       "1         129.0          54.0          0.912602  5.186382  27.605996   \n",
       "2         290.0         131.0          1.160816  2.434286  26.574286   \n",
       "3         307.0         120.0          1.256205  1.490312  16.666053   \n",
       "4         186.0          62.0          1.121173  1.206633  26.216837   \n",
       "..          ...           ...               ...       ...        ...   \n",
       "77       1404.0         590.0          1.982883  0.000000   0.000000   \n",
       "78        760.0         440.0          2.104377  0.000000   0.000000   \n",
       "79       1372.0         505.0          1.884946  0.272917   0.212215   \n",
       "80        677.0         388.0          1.893012  0.197588   0.358998   \n",
       "81        983.0         410.0          1.903759  0.000000   0.000000   \n",
       "\n",
       "    LOW_INC_1P  HI_INC_1P  \n",
       "0    40.755143   6.911691  \n",
       "1    40.853455   7.675203  \n",
       "2    33.610857   3.078857  \n",
       "3    43.684147   3.906325  \n",
       "4    39.142347   1.801531  \n",
       "..         ...        ...  \n",
       "77   12.245911  11.907760  \n",
       "78    7.139394  12.071717  \n",
       "79   12.847180  16.522002  \n",
       "80   21.659555  11.921150  \n",
       "81   19.553684  10.682105  \n",
       "\n",
       "[82 rows x 18 columns]"
      ]
     },
     "execution_count": 456,
     "metadata": {},
     "output_type": "execute_result"
    }
   ],
   "source": [
    "acs.drop(columns=['income_prob', 'hhlds_prob', 'both_prob', 'income_and_vehicles'])"
   ]
  },
  {
   "cell_type": "code",
   "execution_count": 457,
   "id": "82675570-fc7f-4357-82ac-97765487ca1f",
   "metadata": {},
   "outputs": [],
   "source": [
    "acs = acs[['CENSUS_TRACT', 'MEDIAN_AGE', 'LOW_INC_0', 'HI_INC_0', 'LOW_INC_1P', 'HI_INC_1P', 'P_BACH_25P']]"
   ]
  },
  {
   "cell_type": "code",
   "execution_count": null,
   "id": "6c03c6a0-e33c-4315-bf2a-e4c937bc7e37",
   "metadata": {},
   "outputs": [],
   "source": []
  },
  {
   "cell_type": "code",
   "execution_count": null,
   "id": "685af292-f1be-40f9-ba01-7a9a4e0ec7c5",
   "metadata": {},
   "outputs": [],
   "source": []
  },
  {
   "cell_type": "code",
   "execution_count": 458,
   "id": "b291d2c6-ab59-4b33-990f-994853c03560",
   "metadata": {},
   "outputs": [],
   "source": [
    "# merges wac and acs dataframes into one"
   ]
  },
  {
   "cell_type": "code",
   "execution_count": 459,
   "id": "03d289ef-d627-4552-b1a7-3657edeb443d",
   "metadata": {},
   "outputs": [],
   "source": [
    "lehd = pd.read_csv(\"E:/CR2/Repos/TNC-Demand-Model-Southeast/Cleaned_Inputs/Intermediate/wac.csv\")"
   ]
  },
  {
   "cell_type": "code",
   "execution_count": 460,
   "id": "d55ba5b5-09aa-4311-9589-2db347dddc14",
   "metadata": {},
   "outputs": [],
   "source": [
    "lehd['trct_string'] = lehd['trct'].astype(str)"
   ]
  },
  {
   "cell_type": "code",
   "execution_count": null,
   "id": "f249ae96-d154-4693-9b2c-31f489c05c94",
   "metadata": {},
   "outputs": [],
   "source": []
  },
  {
   "cell_type": "code",
   "execution_count": 461,
   "id": "20e720b6-8740-4c7c-85c2-4b2d7519684a",
   "metadata": {},
   "outputs": [],
   "source": [
    "merged_data = acs.merge(lehd, left_on='CENSUS_TRACT', right_on='trct_string', how='left')"
   ]
  },
  {
   "cell_type": "code",
   "execution_count": 462,
   "id": "93237b9d-7e13-4582-9a04-4ce631099860",
   "metadata": {},
   "outputs": [],
   "source": [
    "merged_data = merged_data[['CENSUS_TRACT', 'MEDIAN_AGE', 'LOW_INC_0', 'HI_INC_0', 'LOW_INC_1P', 'HI_INC_1P', 'P_BACH_25P', 'FOOD_EMP', 'RETAIL_EMP', 'OTHER_EMP', 'TOTAL_EMP_DEN']]"
   ]
  },
  {
   "cell_type": "code",
   "execution_count": null,
   "id": "a746b931-27c7-4a40-889a-d21957268b38",
   "metadata": {},
   "outputs": [],
   "source": [
    "# column just for October 2019, filled with ones"
   ]
  },
  {
   "cell_type": "code",
   "execution_count": 466,
   "id": "20b24823-9540-48ae-952b-06c3ac905d57",
   "metadata": {},
   "outputs": [],
   "source": [
    "merged_data['OCT_19'] = 1"
   ]
  },
  {
   "cell_type": "code",
   "execution_count": null,
   "id": "db9d5933-f2f3-4155-9776-dca082fc6a47",
   "metadata": {},
   "outputs": [],
   "source": [
    "# placeholder for Logsum"
   ]
  },
  {
   "cell_type": "code",
   "execution_count": 477,
   "id": "dd5a87ab-666c-4bd9-aaa2-c84d8765a8d2",
   "metadata": {},
   "outputs": [],
   "source": [
    "merged_data['LOGSUM'] = 0"
   ]
  },
  {
   "cell_type": "code",
   "execution_count": null,
   "id": "1b936367-42c9-48c5-9c53-e9677a15696b",
   "metadata": {},
   "outputs": [],
   "source": [
    "# placeholder for Airport"
   ]
  },
  {
   "cell_type": "code",
   "execution_count": 471,
   "id": "b66ee524-b150-4ecf-a1f9-0d0d452b62e8",
   "metadata": {},
   "outputs": [],
   "source": [
    "merged_data['AIR_F'] = 1"
   ]
  },
  {
   "cell_type": "code",
   "execution_count": 472,
   "id": "a88a846c-69e8-4203-8ee0-8067a0675dde",
   "metadata": {},
   "outputs": [],
   "source": [
    "# plapceholder for Tourist"
   ]
  },
  {
   "cell_type": "code",
   "execution_count": 473,
   "id": "ba4727d8-a82a-4af3-af9b-2ec589e6eb20",
   "metadata": {},
   "outputs": [],
   "source": [
    "merged_data['TOR_F'] = 0"
   ]
  },
  {
   "cell_type": "code",
   "execution_count": 533,
   "id": "3b36c116-2303-4cc1-9bcb-7894d40d42a9",
   "metadata": {},
   "outputs": [],
   "source": [
    "# placeholder for MONTHS, YEARS, and WEEKDAYS"
   ]
  },
  {
   "cell_type": "code",
   "execution_count": 534,
   "id": "3fd390b4-7141-4076-ab67-0eaf569173d6",
   "metadata": {},
   "outputs": [],
   "source": [
    "merged_data['MONTH'] = 0"
   ]
  },
  {
   "cell_type": "code",
   "execution_count": 535,
   "id": "09ac283d-3b6f-4d17-a0a2-c7b75cff8e45",
   "metadata": {},
   "outputs": [],
   "source": [
    "merged_data['YEAR'] = 0"
   ]
  },
  {
   "cell_type": "code",
   "execution_count": 536,
   "id": "49f232bc-614a-4ff8-beab-8c590f2bab68",
   "metadata": {},
   "outputs": [],
   "source": [
    "merged_data['WEEKDAYS'] = 0"
   ]
  },
  {
   "cell_type": "code",
   "execution_count": 537,
   "id": "cb090264-86c3-4c31-9459-808a35f5c783",
   "metadata": {},
   "outputs": [
    {
     "data": {
      "text/html": [
       "<div>\n",
       "<style scoped>\n",
       "    .dataframe tbody tr th:only-of-type {\n",
       "        vertical-align: middle;\n",
       "    }\n",
       "\n",
       "    .dataframe tbody tr th {\n",
       "        vertical-align: top;\n",
       "    }\n",
       "\n",
       "    .dataframe thead th {\n",
       "        text-align: right;\n",
       "    }\n",
       "</style>\n",
       "<table border=\"1\" class=\"dataframe\">\n",
       "  <thead>\n",
       "    <tr style=\"text-align: right;\">\n",
       "      <th></th>\n",
       "      <th>CENSUS_TRACT</th>\n",
       "      <th>MEDIAN_AGE</th>\n",
       "      <th>LOW_INC_0</th>\n",
       "      <th>HI_INC_0</th>\n",
       "      <th>LOW_INC_1P</th>\n",
       "      <th>HI_INC_1P</th>\n",
       "      <th>P_BACH_25P</th>\n",
       "      <th>FOOD_EMP</th>\n",
       "      <th>RETAIL_EMP</th>\n",
       "      <th>OTHER_EMP</th>\n",
       "      <th>TOTAL_EMP_DEN</th>\n",
       "      <th>OCT_19</th>\n",
       "      <th>LOG_SUM</th>\n",
       "      <th>AIR_F</th>\n",
       "      <th>TOR_F</th>\n",
       "      <th>LOGSUM</th>\n",
       "      <th>MONTH</th>\n",
       "      <th>YEAR</th>\n",
       "      <th>WEEKDAYS</th>\n",
       "    </tr>\n",
       "  </thead>\n",
       "  <tbody>\n",
       "    <tr>\n",
       "      <th>0</th>\n",
       "      <td>21067000101</td>\n",
       "      <td>31.0</td>\n",
       "      <td>27.713497</td>\n",
       "      <td>4.699950</td>\n",
       "      <td>40.755143</td>\n",
       "      <td>6.911691</td>\n",
       "      <td>1478.0</td>\n",
       "      <td>1465</td>\n",
       "      <td>264</td>\n",
       "      <td>61</td>\n",
       "      <td>36.315604</td>\n",
       "      <td>1</td>\n",
       "      <td>0</td>\n",
       "      <td>1</td>\n",
       "      <td>0</td>\n",
       "      <td>0</td>\n",
       "      <td>0</td>\n",
       "      <td>0</td>\n",
       "      <td>0</td>\n",
       "    </tr>\n",
       "    <tr>\n",
       "      <th>1</th>\n",
       "      <td>21067000102</td>\n",
       "      <td>52.4</td>\n",
       "      <td>27.605996</td>\n",
       "      <td>5.186382</td>\n",
       "      <td>40.853455</td>\n",
       "      <td>7.675203</td>\n",
       "      <td>799.0</td>\n",
       "      <td>569</td>\n",
       "      <td>48</td>\n",
       "      <td>5</td>\n",
       "      <td>7.654104</td>\n",
       "      <td>1</td>\n",
       "      <td>0</td>\n",
       "      <td>1</td>\n",
       "      <td>0</td>\n",
       "      <td>0</td>\n",
       "      <td>0</td>\n",
       "      <td>0</td>\n",
       "      <td>0</td>\n",
       "    </tr>\n",
       "    <tr>\n",
       "      <th>2</th>\n",
       "      <td>21067000200</td>\n",
       "      <td>24.1</td>\n",
       "      <td>26.574286</td>\n",
       "      <td>2.434286</td>\n",
       "      <td>33.610857</td>\n",
       "      <td>3.078857</td>\n",
       "      <td>568.0</td>\n",
       "      <td>143</td>\n",
       "      <td>120</td>\n",
       "      <td>10</td>\n",
       "      <td>4.561465</td>\n",
       "      <td>1</td>\n",
       "      <td>0</td>\n",
       "      <td>1</td>\n",
       "      <td>0</td>\n",
       "      <td>0</td>\n",
       "      <td>0</td>\n",
       "      <td>0</td>\n",
       "      <td>0</td>\n",
       "    </tr>\n",
       "    <tr>\n",
       "      <th>3</th>\n",
       "      <td>21067000300</td>\n",
       "      <td>36.8</td>\n",
       "      <td>16.666053</td>\n",
       "      <td>1.490312</td>\n",
       "      <td>43.684147</td>\n",
       "      <td>3.906325</td>\n",
       "      <td>403.0</td>\n",
       "      <td>9</td>\n",
       "      <td>50</td>\n",
       "      <td>0</td>\n",
       "      <td>0.626981</td>\n",
       "      <td>1</td>\n",
       "      <td>0</td>\n",
       "      <td>1</td>\n",
       "      <td>0</td>\n",
       "      <td>0</td>\n",
       "      <td>0</td>\n",
       "      <td>0</td>\n",
       "      <td>0</td>\n",
       "    </tr>\n",
       "    <tr>\n",
       "      <th>4</th>\n",
       "      <td>21067000400</td>\n",
       "      <td>32.8</td>\n",
       "      <td>26.216837</td>\n",
       "      <td>1.206633</td>\n",
       "      <td>39.142347</td>\n",
       "      <td>1.801531</td>\n",
       "      <td>134.0</td>\n",
       "      <td>23</td>\n",
       "      <td>38</td>\n",
       "      <td>0</td>\n",
       "      <td>3.177175</td>\n",
       "      <td>1</td>\n",
       "      <td>0</td>\n",
       "      <td>1</td>\n",
       "      <td>0</td>\n",
       "      <td>0</td>\n",
       "      <td>0</td>\n",
       "      <td>0</td>\n",
       "      <td>0</td>\n",
       "    </tr>\n",
       "  </tbody>\n",
       "</table>\n",
       "</div>"
      ],
      "text/plain": [
       "  CENSUS_TRACT MEDIAN_AGE  LOW_INC_0  HI_INC_0  LOW_INC_1P  HI_INC_1P  \\\n",
       "0  21067000101       31.0  27.713497  4.699950   40.755143   6.911691   \n",
       "1  21067000102       52.4  27.605996  5.186382   40.853455   7.675203   \n",
       "2  21067000200       24.1  26.574286  2.434286   33.610857   3.078857   \n",
       "3  21067000300       36.8  16.666053  1.490312   43.684147   3.906325   \n",
       "4  21067000400       32.8  26.216837  1.206633   39.142347   1.801531   \n",
       "\n",
       "   P_BACH_25P  FOOD_EMP  RETAIL_EMP  OTHER_EMP  TOTAL_EMP_DEN  OCT_19  \\\n",
       "0      1478.0      1465         264         61      36.315604       1   \n",
       "1       799.0       569          48          5       7.654104       1   \n",
       "2       568.0       143         120         10       4.561465       1   \n",
       "3       403.0         9          50          0       0.626981       1   \n",
       "4       134.0        23          38          0       3.177175       1   \n",
       "\n",
       "   LOG_SUM  AIR_F  TOR_F  LOGSUM  MONTH  YEAR  WEEKDAYS  \n",
       "0        0      1      0       0      0     0         0  \n",
       "1        0      1      0       0      0     0         0  \n",
       "2        0      1      0       0      0     0         0  \n",
       "3        0      1      0       0      0     0         0  \n",
       "4        0      1      0       0      0     0         0  "
      ]
     },
     "execution_count": 537,
     "metadata": {},
     "output_type": "execute_result"
    }
   ],
   "source": [
    "merged_data.head()"
   ]
  },
  {
   "cell_type": "code",
   "execution_count": 474,
   "id": "9c4f90e4-cb58-44ea-bda2-dc6c2f44933b",
   "metadata": {},
   "outputs": [],
   "source": [
    "# send merged ACS and WAC data to merged file"
   ]
  },
  {
   "cell_type": "code",
   "execution_count": 538,
   "id": "69e34b48-d4c4-417c-a2f9-d6c3d71241d9",
   "metadata": {},
   "outputs": [],
   "source": [
    "merged_data.to_csv('E:/CR2/Repos/TNC-Demand-Model-Southeast/Cleaned_Inputs/Intermediate/merged.csv')"
   ]
  },
  {
   "cell_type": "code",
   "execution_count": null,
   "id": "4fde4455-ac82-41a3-9e17-52204fbec48b",
   "metadata": {},
   "outputs": [],
   "source": []
  },
  {
   "cell_type": "code",
   "execution_count": null,
   "id": "ab678a20-4781-4758-9c96-b42c7325262a",
   "metadata": {},
   "outputs": [],
   "source": []
  },
  {
   "cell_type": "code",
   "execution_count": null,
   "id": "37626080-0eb5-42dc-9b08-a7494adfbd7c",
   "metadata": {},
   "outputs": [],
   "source": []
  },
  {
   "cell_type": "code",
   "execution_count": 539,
   "id": "c38048b8-9732-4376-800b-abd0e645e9ad",
   "metadata": {},
   "outputs": [],
   "source": [
    "# adjust weekdays file to October of 2019"
   ]
  },
  {
   "cell_type": "code",
   "execution_count": 540,
   "id": "693f8e53-4592-4337-993c-6836c5446bf6",
   "metadata": {},
   "outputs": [],
   "source": [
    "weekdays = pd.read_csv('E:/CR2/Repos/TNC-Demand-Model-Southeast/Raw_Inputs/Number of Weekdays.csv')"
   ]
  },
  {
   "cell_type": "code",
   "execution_count": 541,
   "id": "40f1f502-3f2c-48d8-9a4a-3817cc69cc76",
   "metadata": {},
   "outputs": [],
   "source": [
    "month = 10"
   ]
  },
  {
   "cell_type": "code",
   "execution_count": 542,
   "id": "28e99743-083e-422c-a01c-ec5c1812c716",
   "metadata": {},
   "outputs": [],
   "source": [
    "year = 2019"
   ]
  },
  {
   "cell_type": "code",
   "execution_count": 543,
   "id": "a7cc6138-0d96-4de4-bd75-17774cfa43c0",
   "metadata": {},
   "outputs": [],
   "source": [
    "weekdays_2019 = weekdays[(weekdays['MONTH'] == month) & (weekdays['YEAR'] == year)]"
   ]
  },
  {
   "cell_type": "code",
   "execution_count": 544,
   "id": "f41aba0d-0a3d-48f5-a707-2dfdfb8196d1",
   "metadata": {},
   "outputs": [],
   "source": [
    "weekdays_2019.reset_index(drop=True, inplace=True)"
   ]
  },
  {
   "cell_type": "code",
   "execution_count": 545,
   "id": "c314ceaf-31be-4ac8-a2be-31e371bf0dca",
   "metadata": {},
   "outputs": [
    {
     "data": {
      "text/plain": [
       "Index(['YEAR', 'MONTH', 'WEEKDAYS'], dtype='object')"
      ]
     },
     "execution_count": 545,
     "metadata": {},
     "output_type": "execute_result"
    }
   ],
   "source": [
    "weekdays_2019.keys()"
   ]
  },
  {
   "cell_type": "code",
   "execution_count": 546,
   "id": "c3cb5b4c-f024-4f57-8185-d50fbc34e187",
   "metadata": {},
   "outputs": [],
   "source": [
    "weekdays_2019.to_csv('E:/CR2/Repos/TNC-Demand-Model-Southeast/Cleaned_Inputs/Intermediate/weekdays.csv')"
   ]
  },
  {
   "cell_type": "code",
   "execution_count": null,
   "id": "e2d2e095-570a-46c9-9577-074eeb035292",
   "metadata": {},
   "outputs": [],
   "source": []
  },
  {
   "cell_type": "code",
   "execution_count": 302,
   "id": "7b63e44b-9e6f-4258-9e5f-36b1d28df017",
   "metadata": {},
   "outputs": [],
   "source": [
    "#THIS ALL NEEDS TO GO IN THE MAIN SCRIPT\n",
    "\n",
    "variables = acs.columns.drop('CENSUS_TRACT')\n"
   ]
  },
  {
   "cell_type": "code",
   "execution_count": 303,
   "id": "bffbb5de-c6db-47b4-b178-0e049b64a300",
   "metadata": {},
   "outputs": [],
   "source": [
    "#THIS ALL NEEDS TO GO IN THE MAIN SCRIPT\n",
    "\n",
    "\n",
    "for var in variables:    \n",
    "    acs[var] = acs[var].replace('-',np.nan)\n",
    "    acs[var] = acs[var].replace('250,000+','250000')\n",
    "    acs[var] = acs[var].astype(float)"
   ]
  },
  {
   "cell_type": "code",
   "execution_count": 304,
   "id": "0cdc5e4f-85de-4cee-92dd-a2db43346269",
   "metadata": {},
   "outputs": [],
   "source": [
    "#THIS ALL NEEDS TO GO IN THE MAIN SCRIPT\n",
    "\n",
    "\n",
    "acs.to_csv('E:/CR2/Repos/TNC-Demand-Model-Southeast/Cleaned_Inputs/Intermediate/acs.csv')"
   ]
  },
  {
   "cell_type": "code",
   "execution_count": null,
   "id": "48b755be-e158-475a-bbad-9c712db632a0",
   "metadata": {},
   "outputs": [],
   "source": []
  }
 ],
 "metadata": {
  "kernelspec": {
   "display_name": "Python 3 (ipykernel)",
   "language": "python",
   "name": "python3"
  },
  "language_info": {
   "codemirror_mode": {
    "name": "ipython",
    "version": 3
   },
   "file_extension": ".py",
   "mimetype": "text/x-python",
   "name": "python",
   "nbconvert_exporter": "python",
   "pygments_lexer": "ipython3",
   "version": "3.12.3"
  }
 },
 "nbformat": 4,
 "nbformat_minor": 5
}
