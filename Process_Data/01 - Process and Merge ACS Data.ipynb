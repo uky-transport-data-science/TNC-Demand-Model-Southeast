{
 "cells": [
  {
   "cell_type": "code",
   "execution_count": 428,
   "id": "18f294f3-e6f4-46fb-a9bd-d352364a20c1",
   "metadata": {},
   "outputs": [],
   "source": [
    "import pandas as pd\n",
    "import numpy as np"
   ]
  },
  {
   "cell_type": "code",
   "execution_count": 429,
   "id": "5c494623-a304-493e-9fe4-3be70fd81df2",
   "metadata": {},
   "outputs": [],
   "source": [
    "pd.options.display.max_columns= 1000"
   ]
  },
  {
   "cell_type": "code",
   "execution_count": null,
   "id": "99220332-548f-4695-a4d4-3c47eac6402e",
   "metadata": {},
   "outputs": [],
   "source": []
  },
  {
   "cell_type": "code",
   "execution_count": 430,
   "id": "c5e45698-b192-4510-b9f3-f6c8dd2f2c82",
   "metadata": {},
   "outputs": [],
   "source": [
    "# process dp05 data"
   ]
  },
  {
   "cell_type": "code",
   "execution_count": 431,
   "id": "361c841d-e25d-47d7-a086-16977170c268",
   "metadata": {},
   "outputs": [],
   "source": [
    "acs_dp05 = pd.read_csv('E:/CR2/Repos/TNC-Demand-Model-Southeast/Raw_Inputs/ACS/DP05/DP05.csv')"
   ]
  },
  {
   "cell_type": "code",
   "execution_count": 432,
   "id": "0f66b578-aadc-48b2-84d2-7196435dce61",
   "metadata": {},
   "outputs": [],
   "source": [
    "acs_dp05[['TRACT', 'COUNTY', 'STATE']] = acs_dp05.NAME.str.split(',', expand=True)"
   ]
  },
  {
   "cell_type": "code",
   "execution_count": 433,
   "id": "f44d4a30-33ad-4a7a-b0a1-bfbaa4a391d4",
   "metadata": {},
   "outputs": [],
   "source": [
    "acs_dp05 = acs_dp05[acs_dp05['COUNTY'] == ' Fayette County']"
   ]
  },
  {
   "cell_type": "code",
   "execution_count": 434,
   "id": "48bbb896-b015-45a6-bceb-9fbb8925293d",
   "metadata": {},
   "outputs": [],
   "source": [
    "acs_dp05['CENSUS_TRACT'] = acs_dp05.apply(lambda row: row['GEO_ID'][9:], axis = 1)"
   ]
  },
  {
   "cell_type": "code",
   "execution_count": 435,
   "id": "0c690512-d68d-41cf-a183-0d42dc5e3f28",
   "metadata": {},
   "outputs": [],
   "source": [
    "acs_dp05 = acs_dp05.rename(columns={'DP05_0018E': 'MEDIAN_AGE'})"
   ]
  },
  {
   "cell_type": "code",
   "execution_count": 436,
   "id": "9bce97fc-20b5-4b63-8dc4-ad89b88d520e",
   "metadata": {},
   "outputs": [],
   "source": [
    "acs_dp05 = acs_dp05[['MEDIAN_AGE', 'CENSUS_TRACT']]"
   ]
  },
  {
   "cell_type": "code",
   "execution_count": null,
   "id": "46a25078-5b4a-439f-ba6c-ab9500de7be0",
   "metadata": {},
   "outputs": [],
   "source": []
  },
  {
   "cell_type": "code",
   "execution_count": 437,
   "id": "b2282f3e-43d9-4541-a027-f19bb573fa5c",
   "metadata": {},
   "outputs": [],
   "source": [
    "# Process S1501 Data"
   ]
  },
  {
   "cell_type": "code",
   "execution_count": 438,
   "id": "5e24868d-124f-43f9-90c3-80486fc4ff39",
   "metadata": {},
   "outputs": [],
   "source": [
    "acs_s1501 = pd.read_csv('E:/CR2/Repos/TNC-Demand-Model-Southeast/Raw_Inputs/ACS/S1501/S1501.csv')"
   ]
  },
  {
   "cell_type": "code",
   "execution_count": 439,
   "id": "66b1724b-8888-4a8b-972b-147422f326ea",
   "metadata": {},
   "outputs": [],
   "source": [
    "acs_s1501[['TRACT', 'COUNTY', 'STATE']] = acs_s1501.NAME.str.split(',', expand=True)"
   ]
  },
  {
   "cell_type": "code",
   "execution_count": 440,
   "id": "e894933e-c384-48f2-bee2-0dbe75ea1d9c",
   "metadata": {},
   "outputs": [],
   "source": [
    "acs_s1501 = acs_s1501[acs_s1501['COUNTY'] == ' Fayette County']"
   ]
  },
  {
   "cell_type": "code",
   "execution_count": 441,
   "id": "7a7adf14-3f57-45ee-aff6-08619a3bf4f9",
   "metadata": {},
   "outputs": [],
   "source": [
    "acs_s1501['CENSUS_TRACT'] = acs_s1501.apply(lambda row: row['GEO_ID'][9:], axis = 1)"
   ]
  },
  {
   "cell_type": "code",
   "execution_count": 442,
   "id": "432fc88e-c5a7-4e8d-9a49-c814aee3e4a0",
   "metadata": {},
   "outputs": [],
   "source": [
    "keep = ['S1501_C01_001E', 'S1501_C01_002E', 'S1501_C01_003E', 'S1501_C01_004E', 'S1501_C01_005E', 'S1501_C01_006E', 'S1501_C01_007E', 'S1501_C01_008E', 'S1501_C01_009E', 'S1501_C01_010E', 'S1501_C01_011E', 'S1501_C01_012E', 'S1501_C01_013E', 'S1501_C01_014E', 'S1501_C01_015E','CENSUS_TRACT']"
   ]
  },
  {
   "cell_type": "code",
   "execution_count": 443,
   "id": "62a1100c-b329-4125-8839-b6869b66f7db",
   "metadata": {},
   "outputs": [],
   "source": [
    "rename = ['TOTAL_POP_18_24', 'TOTAL_POP_18_24_NO_HIGH_SCHOOL', 'TOTAL_POP_18_24_HIGH_SCHOOL', 'TOTAL_POP_18_24_SOME_COLLEGE', 'TOTAL_POP_18_24_SOME_BACHELORS_HIGHER', 'TOTAL_POP_25P', 'TOTAL_POP_25P_LESS_THAN_9TH', 'TOTAL_POP_25P_9TH_TO_12TH', 'TOTAL_POP_25P_HIGH_SCHOOL', 'TOTAL_POP_25P_SOME_COLLEGE', 'TOTAL_POP_25P_ASSOCIATES', 'TOTAL_POP_25P_BACHELORS', 'TOTAL_POP_25P_GRADUATE', 'TOTAL_POP_25P_HIGH_SCHOOL_HIGHER', 'TOTAL_POP_25P_BACHELORS_HIGHER','CENSUS_TRACT']"
   ]
  },
  {
   "cell_type": "code",
   "execution_count": 444,
   "id": "fbd30ae9-57a2-4852-969e-e4c4e6d93f36",
   "metadata": {},
   "outputs": [],
   "source": [
    "acs_s1501 = acs_s1501[keep]\n",
    "acs_s1501.columns = rename"
   ]
  },
  {
   "cell_type": "code",
   "execution_count": 445,
   "id": "8844bc75-add3-4b06-afa2-5ff6cc554a0f",
   "metadata": {},
   "outputs": [],
   "source": [
    "# combine bachelors+ columns and drop the rest"
   ]
  },
  {
   "cell_type": "code",
   "execution_count": 446,
   "id": "73bb7235-12f3-498d-8728-43bf73307d17",
   "metadata": {},
   "outputs": [],
   "source": [
    "acs_s1501['TOTAL_POP_25P_GRADUATE'] = acs_s1501['TOTAL_POP_25P_GRADUATE'].astype(float)\n",
    "acs_s1501['TOTAL_POP_25P_BACHELORS_HIGHER'] = acs_s1501['TOTAL_POP_25P_BACHELORS_HIGHER'].astype(float)"
   ]
  },
  {
   "cell_type": "code",
   "execution_count": 447,
   "id": "a4a15226-e92e-4e8e-ab77-e3bca77d254b",
   "metadata": {},
   "outputs": [],
   "source": [
    "acs_s1501['P_BACH_25P'] = (acs_s1501['TOTAL_POP_25P_GRADUATE'] / acs_s1501['TOTAL_POP_25P_BACHELORS_HIGHER']) * 100"
   ]
  },
  {
   "cell_type": "code",
   "execution_count": 448,
   "id": "745fac2b-3356-4c5d-b702-14a4035eeff7",
   "metadata": {},
   "outputs": [],
   "source": [
    "acs_s1501 = acs_s1501[['CENSUS_TRACT', 'P_BACH_25P']]"
   ]
  },
  {
   "cell_type": "code",
   "execution_count": null,
   "id": "8cf5b43e-a6d4-4145-9357-4f8e2bd1ee69",
   "metadata": {},
   "outputs": [],
   "source": []
  },
  {
   "cell_type": "code",
   "execution_count": 449,
   "id": "dc871203-fcb6-4e47-b6ac-d42310decd5b",
   "metadata": {},
   "outputs": [],
   "source": [
    "# processes vehicles X income per household file "
   ]
  },
  {
   "cell_type": "code",
   "execution_count": 450,
   "id": "9a63616d-d8b2-4acf-b8c5-ee90c76cbafd",
   "metadata": {
    "scrolled": true
   },
   "outputs": [],
   "source": [
    "veh_hhld = pd.read_csv('E:/CR2/Repos/TNC-Demand-Model-Southeast/Raw_Inputs/ACS/KY_A112306.csv', skiprows=6)"
   ]
  },
  {
   "cell_type": "code",
   "execution_count": 451,
   "id": "c6bcbeba-6708-4bf6-8a2e-866225a3681f",
   "metadata": {},
   "outputs": [],
   "source": [
    "veh_hhld[['TRACT', 'COUNTY', 'STATE']] = veh_hhld.Output.str.split(',', expand=True)"
   ]
  },
  {
   "cell_type": "code",
   "execution_count": 452,
   "id": "2efb2e1e-6ff4-4c28-9eb1-4abac28b7ae0",
   "metadata": {},
   "outputs": [],
   "source": [
    "veh_hhld = veh_hhld[veh_hhld['COUNTY'] == ' Fayette County']"
   ]
  },
  {
   "cell_type": "code",
   "execution_count": 453,
   "id": "816d9933-a02c-4187-81cd-96c656b38582",
   "metadata": {},
   "outputs": [],
   "source": [
    "low_inc_0 = ['Estimate.10', 'Estimate.11', 'Estimate.12', 'Estimate.13', 'Estimate.14', 'Estimate.15']"
   ]
  },
  {
   "cell_type": "code",
   "execution_count": 454,
   "id": "3a86546a-0fb4-47e0-a621-df1dbd38ecc1",
   "metadata": {},
   "outputs": [],
   "source": [
    "high_inc_0 = ['Estimate.16', 'Estimate.17']"
   ]
  },
  {
   "cell_type": "code",
   "execution_count": 455,
   "id": "0de0c8cc-8403-4f0d-bb5c-873ef6ad3b60",
   "metadata": {},
   "outputs": [],
   "source": [
    "low_inc_1p = ['Estimate.19', 'Estimate.20', 'Estimate.21', 'Estimate.22', 'Estimate.23', 'Estimate.24']"
   ]
  },
  {
   "cell_type": "code",
   "execution_count": 456,
   "id": "701a6e55-b9b7-416f-b58b-3fafd9356f93",
   "metadata": {},
   "outputs": [],
   "source": [
    "high_inc_1p = ['Estimate.30', 'Estimate.31']"
   ]
  },
  {
   "cell_type": "code",
   "execution_count": 457,
   "id": "d72f111a-b279-4d9b-9866-381e6d05f1bc",
   "metadata": {},
   "outputs": [],
   "source": [
    "# removes commas and converts value type to number\n",
    "def clean_and_convert(columns):\n",
    "    for col in columns:\n",
    "        veh_hhld[col] = veh_hhld[col].astype(str).str.replace(',', '')\n",
    "        veh_hhld[col] = pd.to_numeric(veh_hhld[col], errors='coerce')"
   ]
  },
  {
   "cell_type": "code",
   "execution_count": 458,
   "id": "ea5c5fb5-81c0-4416-9ee2-12b39c9da805",
   "metadata": {},
   "outputs": [],
   "source": [
    "clean_and_convert(low_inc_0)\n",
    "clean_and_convert(high_inc_0)\n",
    "clean_and_convert(low_inc_1p)\n",
    "clean_and_convert(high_inc_1p)"
   ]
  },
  {
   "cell_type": "code",
   "execution_count": 459,
   "id": "88a2d93d-a888-4c63-9bda-522bb6a6d8cb",
   "metadata": {},
   "outputs": [],
   "source": [
    "veh_hhld['LOW_INC_0'] = veh_hhld[low_inc_0].sum(axis=1)\n",
    "veh_hhld['HI_INC_0'] = veh_hhld[high_inc_0].sum(axis=1)\n",
    "veh_hhld['LOW_INC_1P'] = veh_hhld[low_inc_1p].sum(axis=1)\n",
    "veh_hhld['HI_INC_1P'] = veh_hhld[high_inc_1p].sum(axis=1)"
   ]
  },
  {
   "cell_type": "code",
   "execution_count": 460,
   "id": "30be1ded-3402-44a8-9d83-99f52bb10ae6",
   "metadata": {},
   "outputs": [],
   "source": [
    "veh_hhld = veh_hhld[['LOW_INC_0', 'HI_INC_0', 'LOW_INC_1P', 'HI_INC_1P']]"
   ]
  },
  {
   "cell_type": "code",
   "execution_count": 461,
   "id": "610921e9-be31-4310-bd18-9fee895daaec",
   "metadata": {},
   "outputs": [],
   "source": [
    "veh_hhld = veh_hhld.reset_index(drop=True)"
   ]
  },
  {
   "cell_type": "code",
   "execution_count": 462,
   "id": "f30add67-5f70-4147-9550-42a68d9fc8be",
   "metadata": {},
   "outputs": [],
   "source": [
    "## combines ACS data into one dataframe\n",
    "acs = acs_dp05.merge(acs_s1501, on = 'CENSUS_TRACT', suffixes = ('_DP05', '_S1501'))\n",
    "acs = acs.merge(acs_dp04, on = 'CENSUS_TRACT', suffixes = ('', '_DP04'))"
   ]
  },
  {
   "cell_type": "code",
   "execution_count": null,
   "id": "ef0ceb8b-f066-498b-8fe7-30c568b2064c",
   "metadata": {},
   "outputs": [],
   "source": []
  },
  {
   "cell_type": "code",
   "execution_count": 463,
   "id": "82675570-fc7f-4357-82ac-97765487ca1f",
   "metadata": {},
   "outputs": [],
   "source": [
    "acs = acs[['CENSUS_TRACT', 'MEDIAN_AGE', 'P_BACH_25P']]"
   ]
  },
  {
   "cell_type": "code",
   "execution_count": 464,
   "id": "c53b0405-492e-4256-920f-dce5e2f190d7",
   "metadata": {},
   "outputs": [],
   "source": [
    "acs = pd.concat([acs, veh_hhld], axis=1)"
   ]
  },
  {
   "cell_type": "code",
   "execution_count": 465,
   "id": "6c03c6a0-e33c-4315-bf2a-e4c937bc7e37",
   "metadata": {},
   "outputs": [
    {
     "data": {
      "text/html": [
       "<div>\n",
       "<style scoped>\n",
       "    .dataframe tbody tr th:only-of-type {\n",
       "        vertical-align: middle;\n",
       "    }\n",
       "\n",
       "    .dataframe tbody tr th {\n",
       "        vertical-align: top;\n",
       "    }\n",
       "\n",
       "    .dataframe thead th {\n",
       "        text-align: right;\n",
       "    }\n",
       "</style>\n",
       "<table border=\"1\" class=\"dataframe\">\n",
       "  <thead>\n",
       "    <tr style=\"text-align: right;\">\n",
       "      <th></th>\n",
       "      <th>CENSUS_TRACT</th>\n",
       "      <th>MEDIAN_AGE</th>\n",
       "      <th>P_BACH_25P</th>\n",
       "      <th>LOW_INC_0</th>\n",
       "      <th>HI_INC_0</th>\n",
       "      <th>LOW_INC_1P</th>\n",
       "      <th>HI_INC_1P</th>\n",
       "    </tr>\n",
       "  </thead>\n",
       "  <tbody>\n",
       "    <tr>\n",
       "      <th>0</th>\n",
       "      <td>21067000101</td>\n",
       "      <td>31.0</td>\n",
       "      <td>32.675045</td>\n",
       "      <td>520.0</td>\n",
       "      <td>0.0</td>\n",
       "      <td>860.0</td>\n",
       "      <td>80.0</td>\n",
       "    </tr>\n",
       "    <tr>\n",
       "      <th>1</th>\n",
       "      <td>21067000102</td>\n",
       "      <td>52.4</td>\n",
       "      <td>53.358925</td>\n",
       "      <td>290.0</td>\n",
       "      <td>10.0</td>\n",
       "      <td>400.0</td>\n",
       "      <td>40.0</td>\n",
       "    </tr>\n",
       "    <tr>\n",
       "      <th>2</th>\n",
       "      <td>21067000200</td>\n",
       "      <td>24.1</td>\n",
       "      <td>42.355890</td>\n",
       "      <td>430.0</td>\n",
       "      <td>0.0</td>\n",
       "      <td>470.0</td>\n",
       "      <td>50.0</td>\n",
       "    </tr>\n",
       "    <tr>\n",
       "      <th>3</th>\n",
       "      <td>21067000300</td>\n",
       "      <td>36.8</td>\n",
       "      <td>45.487365</td>\n",
       "      <td>410.0</td>\n",
       "      <td>0.0</td>\n",
       "      <td>520.0</td>\n",
       "      <td>120.0</td>\n",
       "    </tr>\n",
       "    <tr>\n",
       "      <th>4</th>\n",
       "      <td>21067000400</td>\n",
       "      <td>32.8</td>\n",
       "      <td>30.097087</td>\n",
       "      <td>180.0</td>\n",
       "      <td>0.0</td>\n",
       "      <td>434.0</td>\n",
       "      <td>65.0</td>\n",
       "    </tr>\n",
       "  </tbody>\n",
       "</table>\n",
       "</div>"
      ],
      "text/plain": [
       "  CENSUS_TRACT MEDIAN_AGE  P_BACH_25P  LOW_INC_0  HI_INC_0  LOW_INC_1P  \\\n",
       "0  21067000101       31.0   32.675045      520.0       0.0       860.0   \n",
       "1  21067000102       52.4   53.358925      290.0      10.0       400.0   \n",
       "2  21067000200       24.1   42.355890      430.0       0.0       470.0   \n",
       "3  21067000300       36.8   45.487365      410.0       0.0       520.0   \n",
       "4  21067000400       32.8   30.097087      180.0       0.0       434.0   \n",
       "\n",
       "   HI_INC_1P  \n",
       "0       80.0  \n",
       "1       40.0  \n",
       "2       50.0  \n",
       "3      120.0  \n",
       "4       65.0  "
      ]
     },
     "execution_count": 465,
     "metadata": {},
     "output_type": "execute_result"
    }
   ],
   "source": [
    "acs.head()"
   ]
  },
  {
   "cell_type": "code",
   "execution_count": 466,
   "id": "0cdc5e4f-85de-4cee-92dd-a2db43346269",
   "metadata": {},
   "outputs": [],
   "source": [
    "acs.to_csv('E:/CR2/Repos/TNC-Demand-Model-Southeast/Cleaned_Inputs/Intermediate/acs.csv')"
   ]
  },
  {
   "cell_type": "code",
   "execution_count": null,
   "id": "685af292-f1be-40f9-ba01-7a9a4e0ec7c5",
   "metadata": {},
   "outputs": [],
   "source": []
  },
  {
   "cell_type": "code",
   "execution_count": 467,
   "id": "b291d2c6-ab59-4b33-990f-994853c03560",
   "metadata": {},
   "outputs": [],
   "source": [
    "# merges wac and acs dataframes into one"
   ]
  },
  {
   "cell_type": "code",
   "execution_count": 468,
   "id": "03d289ef-d627-4552-b1a7-3657edeb443d",
   "metadata": {},
   "outputs": [],
   "source": [
    "lehd = pd.read_csv(\"E:/CR2/Repos/TNC-Demand-Model-Southeast/Cleaned_Inputs/Intermediate/wac.csv\")"
   ]
  },
  {
   "cell_type": "code",
   "execution_count": 469,
   "id": "d55ba5b5-09aa-4311-9589-2db347dddc14",
   "metadata": {},
   "outputs": [],
   "source": [
    "lehd['trct_string'] = lehd['trct'].astype(str)"
   ]
  },
  {
   "cell_type": "code",
   "execution_count": null,
   "id": "f249ae96-d154-4693-9b2c-31f489c05c94",
   "metadata": {},
   "outputs": [],
   "source": []
  },
  {
   "cell_type": "code",
   "execution_count": 470,
   "id": "20e720b6-8740-4c7c-85c2-4b2d7519684a",
   "metadata": {},
   "outputs": [],
   "source": [
    "merged_data = acs.merge(lehd, left_on='CENSUS_TRACT', right_on='trct_string', how='left')"
   ]
  },
  {
   "cell_type": "code",
   "execution_count": 471,
   "id": "93237b9d-7e13-4582-9a04-4ce631099860",
   "metadata": {},
   "outputs": [],
   "source": [
    "merged_data = merged_data[['CENSUS_TRACT', 'MEDIAN_AGE', 'LOW_INC_0', 'HI_INC_0', 'LOW_INC_1P', 'HI_INC_1P', 'P_BACH_25P', 'FOOD_EMP', 'RETAIL_EMP', 'OTHER_EMP', 'TOTAL_EMP_DEN']]"
   ]
  },
  {
   "cell_type": "code",
   "execution_count": 472,
   "id": "db9d5933-f2f3-4155-9776-dca082fc6a47",
   "metadata": {},
   "outputs": [],
   "source": [
    "# placeholder for Logsum"
   ]
  },
  {
   "cell_type": "code",
   "execution_count": 473,
   "id": "dd5a87ab-666c-4bd9-aaa2-c84d8765a8d2",
   "metadata": {},
   "outputs": [],
   "source": [
    "merged_data['LOGSUM'] = 0"
   ]
  },
  {
   "cell_type": "code",
   "execution_count": 474,
   "id": "1b936367-42c9-48c5-9c53-e9677a15696b",
   "metadata": {},
   "outputs": [],
   "source": [
    "# placeholder for Airport"
   ]
  },
  {
   "cell_type": "code",
   "execution_count": 475,
   "id": "b66ee524-b150-4ecf-a1f9-0d0d452b62e8",
   "metadata": {},
   "outputs": [],
   "source": [
    "merged_data['AIR_F'] = 0"
   ]
  },
  {
   "cell_type": "code",
   "execution_count": 476,
   "id": "a882af5a-71b7-441e-90d8-8e3c91e82712",
   "metadata": {},
   "outputs": [],
   "source": [
    "merged_data.loc[78, 'AIR_F'] = 1"
   ]
  },
  {
   "cell_type": "code",
   "execution_count": 477,
   "id": "a88a846c-69e8-4203-8ee0-8067a0675dde",
   "metadata": {},
   "outputs": [],
   "source": [
    "# plapceholder for Tourist"
   ]
  },
  {
   "cell_type": "code",
   "execution_count": 478,
   "id": "ba4727d8-a82a-4af3-af9b-2ec589e6eb20",
   "metadata": {},
   "outputs": [],
   "source": [
    "merged_data['TOR_F'] = 0"
   ]
  },
  {
   "cell_type": "code",
   "execution_count": 479,
   "id": "b38685cc-6292-4584-a499-0a59cc5a7e83",
   "metadata": {},
   "outputs": [],
   "source": [
    "# renamed column so we can merge this csv file with shapefile on QGIS on GEOID20 i.e. Census tract"
   ]
  },
  {
   "cell_type": "code",
   "execution_count": 480,
   "id": "f1b21477-676b-4c25-8609-edc46c1977c8",
   "metadata": {},
   "outputs": [],
   "source": [
    "merged_data = merged_data.rename(columns = {'CENSUS_TRACT' : 'GEOID20' })"
   ]
  },
  {
   "cell_type": "code",
   "execution_count": 481,
   "id": "cb090264-86c3-4c31-9459-808a35f5c783",
   "metadata": {},
   "outputs": [
    {
     "data": {
      "text/html": [
       "<div>\n",
       "<style scoped>\n",
       "    .dataframe tbody tr th:only-of-type {\n",
       "        vertical-align: middle;\n",
       "    }\n",
       "\n",
       "    .dataframe tbody tr th {\n",
       "        vertical-align: top;\n",
       "    }\n",
       "\n",
       "    .dataframe thead th {\n",
       "        text-align: right;\n",
       "    }\n",
       "</style>\n",
       "<table border=\"1\" class=\"dataframe\">\n",
       "  <thead>\n",
       "    <tr style=\"text-align: right;\">\n",
       "      <th></th>\n",
       "      <th>GEOID20</th>\n",
       "      <th>MEDIAN_AGE</th>\n",
       "      <th>LOW_INC_0</th>\n",
       "      <th>HI_INC_0</th>\n",
       "      <th>LOW_INC_1P</th>\n",
       "      <th>HI_INC_1P</th>\n",
       "      <th>P_BACH_25P</th>\n",
       "      <th>FOOD_EMP</th>\n",
       "      <th>RETAIL_EMP</th>\n",
       "      <th>OTHER_EMP</th>\n",
       "      <th>TOTAL_EMP_DEN</th>\n",
       "      <th>LOGSUM</th>\n",
       "      <th>AIR_F</th>\n",
       "      <th>TOR_F</th>\n",
       "    </tr>\n",
       "  </thead>\n",
       "  <tbody>\n",
       "    <tr>\n",
       "      <th>77</th>\n",
       "      <td>21067004205</td>\n",
       "      <td>42.9</td>\n",
       "      <td>0.0</td>\n",
       "      <td>0.0</td>\n",
       "      <td>360.0</td>\n",
       "      <td>180.0</td>\n",
       "      <td>47.007042</td>\n",
       "      <td>0</td>\n",
       "      <td>0</td>\n",
       "      <td>535</td>\n",
       "      <td>373.864430</td>\n",
       "      <td>0</td>\n",
       "      <td>0</td>\n",
       "      <td>0</td>\n",
       "    </tr>\n",
       "    <tr>\n",
       "      <th>78</th>\n",
       "      <td>21067004207</td>\n",
       "      <td>49.1</td>\n",
       "      <td>0.0</td>\n",
       "      <td>0.0</td>\n",
       "      <td>230.0</td>\n",
       "      <td>85.0</td>\n",
       "      <td>50.110497</td>\n",
       "      <td>193</td>\n",
       "      <td>65</td>\n",
       "      <td>1014</td>\n",
       "      <td>93.964689</td>\n",
       "      <td>0</td>\n",
       "      <td>1</td>\n",
       "      <td>0</td>\n",
       "    </tr>\n",
       "    <tr>\n",
       "      <th>79</th>\n",
       "      <td>21067004208</td>\n",
       "      <td>42.5</td>\n",
       "      <td>25.0</td>\n",
       "      <td>10.0</td>\n",
       "      <td>580.0</td>\n",
       "      <td>165.0</td>\n",
       "      <td>51.132139</td>\n",
       "      <td>1159</td>\n",
       "      <td>626</td>\n",
       "      <td>3059</td>\n",
       "      <td>1507.625272</td>\n",
       "      <td>0</td>\n",
       "      <td>0</td>\n",
       "      <td>0</td>\n",
       "    </tr>\n",
       "    <tr>\n",
       "      <th>80</th>\n",
       "      <td>21067004209</td>\n",
       "      <td>35.2</td>\n",
       "      <td>10.0</td>\n",
       "      <td>0.0</td>\n",
       "      <td>505.0</td>\n",
       "      <td>170.0</td>\n",
       "      <td>43.029016</td>\n",
       "      <td>79</td>\n",
       "      <td>28</td>\n",
       "      <td>83</td>\n",
       "      <td>293.663060</td>\n",
       "      <td>0</td>\n",
       "      <td>0</td>\n",
       "      <td>0</td>\n",
       "    </tr>\n",
       "    <tr>\n",
       "      <th>81</th>\n",
       "      <td>21067004210</td>\n",
       "      <td>33.0</td>\n",
       "      <td>19.0</td>\n",
       "      <td>0.0</td>\n",
       "      <td>480.0</td>\n",
       "      <td>170.0</td>\n",
       "      <td>53.177258</td>\n",
       "      <td>19</td>\n",
       "      <td>298</td>\n",
       "      <td>419</td>\n",
       "      <td>673.992674</td>\n",
       "      <td>0</td>\n",
       "      <td>0</td>\n",
       "      <td>0</td>\n",
       "    </tr>\n",
       "  </tbody>\n",
       "</table>\n",
       "</div>"
      ],
      "text/plain": [
       "        GEOID20 MEDIAN_AGE  LOW_INC_0  HI_INC_0  LOW_INC_1P  HI_INC_1P  \\\n",
       "77  21067004205       42.9        0.0       0.0       360.0      180.0   \n",
       "78  21067004207       49.1        0.0       0.0       230.0       85.0   \n",
       "79  21067004208       42.5       25.0      10.0       580.0      165.0   \n",
       "80  21067004209       35.2       10.0       0.0       505.0      170.0   \n",
       "81  21067004210       33.0       19.0       0.0       480.0      170.0   \n",
       "\n",
       "    P_BACH_25P  FOOD_EMP  RETAIL_EMP  OTHER_EMP  TOTAL_EMP_DEN  LOGSUM  AIR_F  \\\n",
       "77   47.007042         0           0        535     373.864430       0      0   \n",
       "78   50.110497       193          65       1014      93.964689       0      1   \n",
       "79   51.132139      1159         626       3059    1507.625272       0      0   \n",
       "80   43.029016        79          28         83     293.663060       0      0   \n",
       "81   53.177258        19         298        419     673.992674       0      0   \n",
       "\n",
       "    TOR_F  \n",
       "77      0  \n",
       "78      0  \n",
       "79      0  \n",
       "80      0  \n",
       "81      0  "
      ]
     },
     "execution_count": 481,
     "metadata": {},
     "output_type": "execute_result"
    }
   ],
   "source": [
    "merged_data.tail()"
   ]
  },
  {
   "cell_type": "code",
   "execution_count": 482,
   "id": "9c4f90e4-cb58-44ea-bda2-dc6c2f44933b",
   "metadata": {},
   "outputs": [],
   "source": [
    "# send merged ACS and WAC data to merged file"
   ]
  },
  {
   "cell_type": "code",
   "execution_count": 483,
   "id": "69e34b48-d4c4-417c-a2f9-d6c3d71241d9",
   "metadata": {},
   "outputs": [],
   "source": [
    "merged_data.to_csv('E:/CR2/Repos/TNC-Demand-Model-Southeast/Cleaned_Inputs/Intermediate/merged_fayette_data.csv')"
   ]
  }
 ],
 "metadata": {
  "kernelspec": {
   "display_name": "Python 3 (ipykernel)",
   "language": "python",
   "name": "python3"
  },
  "language_info": {
   "codemirror_mode": {
    "name": "ipython",
    "version": 3
   },
   "file_extension": ".py",
   "mimetype": "text/x-python",
   "name": "python",
   "nbconvert_exporter": "python",
   "pygments_lexer": "ipython3",
   "version": "3.12.3"
  }
 },
 "nbformat": 4,
 "nbformat_minor": 5
}
