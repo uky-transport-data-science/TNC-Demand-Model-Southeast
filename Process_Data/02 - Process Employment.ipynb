{
 "cells": [
  {
   "cell_type": "code",
   "execution_count": 44,
   "metadata": {},
   "outputs": [],
   "source": [
    "import pandas as pd\n",
    "import numpy as np\n",
    "%matplotlib inline  "
   ]
  },
  {
   "cell_type": "code",
   "execution_count": 45,
   "metadata": {},
   "outputs": [],
   "source": [
    "pd.options.display.max_columns= 100"
   ]
  },
  {
   "cell_type": "code",
   "execution_count": null,
   "metadata": {},
   "outputs": [],
   "source": []
  },
  {
   "cell_type": "code",
   "execution_count": 46,
   "metadata": {},
   "outputs": [],
   "source": [
    "# import wac 2019 data from LEHD lodes"
   ]
  },
  {
   "cell_type": "code",
   "execution_count": 47,
   "metadata": {},
   "outputs": [],
   "source": [
    "wac = pd.read_csv('../Raw_Inputs/LEHD/ky_wac_S000_JT00_2019.csv')"
   ]
  },
  {
   "cell_type": "code",
   "execution_count": 48,
   "metadata": {},
   "outputs": [],
   "source": [
    "# import wac xwalk data from LEHD lodes"
   ]
  },
  {
   "cell_type": "code",
   "execution_count": 49,
   "metadata": {},
   "outputs": [],
   "source": [
    "geo_xwalk = pd.read_csv('../Raw_Inputs/LEHD/ky_xwalk.csv', low_memory=False)"
   ]
  },
  {
   "cell_type": "code",
   "execution_count": null,
   "metadata": {},
   "outputs": [],
   "source": []
  },
  {
   "cell_type": "code",
   "execution_count": 50,
   "metadata": {},
   "outputs": [],
   "source": [
    "wac_geo = wac.merge(geo_xwalk, how=\"left\", left_on='w_geocode', right_on='tabblk2020')"
   ]
  },
  {
   "cell_type": "code",
   "execution_count": 51,
   "metadata": {},
   "outputs": [],
   "source": [
    "wac_geo_grouped = wac_geo.groupby(by = 'trct', as_index = False).sum()"
   ]
  },
  {
   "cell_type": "code",
   "execution_count": null,
   "metadata": {},
   "outputs": [],
   "source": []
  },
  {
   "cell_type": "code",
   "execution_count": 52,
   "metadata": {},
   "outputs": [],
   "source": [
    "# cleaning and processing"
   ]
  },
  {
   "cell_type": "code",
   "execution_count": 53,
   "metadata": {},
   "outputs": [],
   "source": [
    "wac_geo_grouped['FOOD_EMP'] = wac_geo_grouped['CNS18'] "
   ]
  },
  {
   "cell_type": "code",
   "execution_count": 54,
   "metadata": {},
   "outputs": [],
   "source": [
    "wac_geo_grouped['RETAIL_EMP'] = wac_geo_grouped['CNS07'] "
   ]
  },
  {
   "cell_type": "code",
   "execution_count": 55,
   "metadata": {},
   "outputs": [],
   "source": [
    "wac_geo_grouped['OTHER_EMP'] = wac_geo_grouped['CNS01'] + wac_geo_grouped['CNS02'] + wac_geo_grouped['CNS03'] + wac_geo_grouped['CNS04'] + wac_geo_grouped['CNS05'] + wac_geo_grouped['CNS06'] + wac_geo_grouped['CNS08'] + wac_geo_grouped['CNS09'] + wac_geo_grouped['CNS10'] + wac_geo_grouped['CNS11'] + wac_geo_grouped['CNS12'] + wac_geo_grouped['CNS13'] + wac_geo_grouped['CNS14'] + wac_geo_grouped['CNS15'] + wac_geo_grouped['CNS16'] + wac_geo_grouped['CNS17'] + wac_geo_grouped['CNS19'] + wac_geo_grouped['CNS20']"
   ]
  },
  {
   "cell_type": "code",
   "execution_count": null,
   "metadata": {},
   "outputs": [],
   "source": []
  },
  {
   "cell_type": "code",
   "execution_count": 56,
   "metadata": {},
   "outputs": [],
   "source": [
    "# import shapefile from QGIS (after calculating land area using the shapefile) "
   ]
  },
  {
   "cell_type": "code",
   "execution_count": 57,
   "metadata": {},
   "outputs": [],
   "source": [
    "land_area = pd.read_csv('E:/CR2/Repos/TNC-Demand-Model-Southeast/Raw_Inputs/LEHD/census_landarea.csv')"
   ]
  },
  {
   "cell_type": "code",
   "execution_count": 58,
   "metadata": {},
   "outputs": [],
   "source": [
    "land_area.rename(columns={'GEOID20': 'trct'}, inplace=True)"
   ]
  },
  {
   "cell_type": "code",
   "execution_count": 66,
   "metadata": {},
   "outputs": [
    {
     "data": {
      "text/html": [
       "<div>\n",
       "<style scoped>\n",
       "    .dataframe tbody tr th:only-of-type {\n",
       "        vertical-align: middle;\n",
       "    }\n",
       "\n",
       "    .dataframe tbody tr th {\n",
       "        vertical-align: top;\n",
       "    }\n",
       "\n",
       "    .dataframe thead th {\n",
       "        text-align: right;\n",
       "    }\n",
       "</style>\n",
       "<table border=\"1\" class=\"dataframe\">\n",
       "  <thead>\n",
       "    <tr style=\"text-align: right;\">\n",
       "      <th></th>\n",
       "      <th>STATEFP20</th>\n",
       "      <th>COUNTYFP20</th>\n",
       "      <th>TRACTCE20</th>\n",
       "      <th>trct</th>\n",
       "      <th>NAME20</th>\n",
       "      <th>NAMELSAD20</th>\n",
       "      <th>MTFCC20</th>\n",
       "      <th>FUNCSTAT20</th>\n",
       "      <th>ALAND20</th>\n",
       "      <th>AWATER20</th>\n",
       "      <th>INTPTLAT20</th>\n",
       "      <th>INTPTLON20</th>\n",
       "      <th>land_area</th>\n",
       "      <th>merged_fayette_data_CENSUS_TRACT</th>\n",
       "      <th>merged_fayette_data_MEDIAN_AGE</th>\n",
       "      <th>merged_fayette_data_LOW_INC_0</th>\n",
       "      <th>merged_fayette_data_HI_INC_0</th>\n",
       "      <th>merged_fayette_data_LOW_INC_1P</th>\n",
       "      <th>merged_fayette_data_HI_INC_1P</th>\n",
       "      <th>merged_fayette_data_P_BACH_25P</th>\n",
       "      <th>merged_fayette_data_FOOD_EMP</th>\n",
       "      <th>merged_fayette_data_RETAIL_EMP</th>\n",
       "      <th>merged_fayette_data_OTHER_EMP</th>\n",
       "      <th>merged_fayette_data_TOTAL_EMP_DEN</th>\n",
       "      <th>merged_fayette_data_LOGSUM</th>\n",
       "      <th>merged_fayette_data_AIR_F</th>\n",
       "      <th>merged_fayette_data_TOR_F</th>\n",
       "    </tr>\n",
       "  </thead>\n",
       "  <tbody>\n",
       "    <tr>\n",
       "      <th>77</th>\n",
       "      <td>21</td>\n",
       "      <td>67</td>\n",
       "      <td>4205</td>\n",
       "      <td>21067004205</td>\n",
       "      <td>42.05</td>\n",
       "      <td>Census Tract</td>\n",
       "      <td>G5020</td>\n",
       "      <td>S</td>\n",
       "      <td>3689284</td>\n",
       "      <td>16699</td>\n",
       "      <td>37.989952</td>\n",
       "      <td>-84.577491</td>\n",
       "      <td>1.431</td>\n",
       "      <td>21067004205</td>\n",
       "      <td>42.9</td>\n",
       "      <td>0.0</td>\n",
       "      <td>0.0</td>\n",
       "      <td>360.0</td>\n",
       "      <td>180.0</td>\n",
       "      <td>47.007042</td>\n",
       "      <td>0</td>\n",
       "      <td>0</td>\n",
       "      <td>535</td>\n",
       "      <td>373.864430</td>\n",
       "      <td>0</td>\n",
       "      <td>0</td>\n",
       "      <td>0</td>\n",
       "    </tr>\n",
       "    <tr>\n",
       "      <th>78</th>\n",
       "      <td>21</td>\n",
       "      <td>67</td>\n",
       "      <td>4207</td>\n",
       "      <td>21067004207</td>\n",
       "      <td>42.07</td>\n",
       "      <td>Census Tract</td>\n",
       "      <td>G5020</td>\n",
       "      <td>S</td>\n",
       "      <td>34955033</td>\n",
       "      <td>106219</td>\n",
       "      <td>38.013885</td>\n",
       "      <td>-84.622867</td>\n",
       "      <td>13.537</td>\n",
       "      <td>21067004207</td>\n",
       "      <td>49.1</td>\n",
       "      <td>0.0</td>\n",
       "      <td>0.0</td>\n",
       "      <td>230.0</td>\n",
       "      <td>85.0</td>\n",
       "      <td>50.110497</td>\n",
       "      <td>193</td>\n",
       "      <td>65</td>\n",
       "      <td>1014</td>\n",
       "      <td>93.964689</td>\n",
       "      <td>0</td>\n",
       "      <td>1</td>\n",
       "      <td>0</td>\n",
       "    </tr>\n",
       "    <tr>\n",
       "      <th>79</th>\n",
       "      <td>21</td>\n",
       "      <td>67</td>\n",
       "      <td>4208</td>\n",
       "      <td>21067004208</td>\n",
       "      <td>42.08</td>\n",
       "      <td>Census Tract</td>\n",
       "      <td>G5020</td>\n",
       "      <td>S</td>\n",
       "      <td>8321837</td>\n",
       "      <td>0</td>\n",
       "      <td>38.026559</td>\n",
       "      <td>-84.571985</td>\n",
       "      <td>3.213</td>\n",
       "      <td>21067004208</td>\n",
       "      <td>42.5</td>\n",
       "      <td>25.0</td>\n",
       "      <td>10.0</td>\n",
       "      <td>580.0</td>\n",
       "      <td>165.0</td>\n",
       "      <td>51.132139</td>\n",
       "      <td>1159</td>\n",
       "      <td>626</td>\n",
       "      <td>3059</td>\n",
       "      <td>1507.625272</td>\n",
       "      <td>0</td>\n",
       "      <td>0</td>\n",
       "      <td>0</td>\n",
       "    </tr>\n",
       "    <tr>\n",
       "      <th>80</th>\n",
       "      <td>21</td>\n",
       "      <td>67</td>\n",
       "      <td>4209</td>\n",
       "      <td>21067004209</td>\n",
       "      <td>42.09</td>\n",
       "      <td>Census Tract</td>\n",
       "      <td>G5020</td>\n",
       "      <td>S</td>\n",
       "      <td>1676129</td>\n",
       "      <td>0</td>\n",
       "      <td>37.979539</td>\n",
       "      <td>-84.560562</td>\n",
       "      <td>0.647</td>\n",
       "      <td>21067004209</td>\n",
       "      <td>35.2</td>\n",
       "      <td>10.0</td>\n",
       "      <td>0.0</td>\n",
       "      <td>505.0</td>\n",
       "      <td>170.0</td>\n",
       "      <td>43.029016</td>\n",
       "      <td>79</td>\n",
       "      <td>28</td>\n",
       "      <td>83</td>\n",
       "      <td>293.663060</td>\n",
       "      <td>0</td>\n",
       "      <td>0</td>\n",
       "      <td>0</td>\n",
       "    </tr>\n",
       "    <tr>\n",
       "      <th>81</th>\n",
       "      <td>21</td>\n",
       "      <td>67</td>\n",
       "      <td>4210</td>\n",
       "      <td>21067004210</td>\n",
       "      <td>42.10</td>\n",
       "      <td>Census Tract</td>\n",
       "      <td>G5020</td>\n",
       "      <td>S</td>\n",
       "      <td>2829042</td>\n",
       "      <td>0</td>\n",
       "      <td>37.973347</td>\n",
       "      <td>-84.542794</td>\n",
       "      <td>1.092</td>\n",
       "      <td>21067004210</td>\n",
       "      <td>33.0</td>\n",
       "      <td>19.0</td>\n",
       "      <td>0.0</td>\n",
       "      <td>480.0</td>\n",
       "      <td>170.0</td>\n",
       "      <td>53.177258</td>\n",
       "      <td>19</td>\n",
       "      <td>298</td>\n",
       "      <td>419</td>\n",
       "      <td>673.992674</td>\n",
       "      <td>0</td>\n",
       "      <td>0</td>\n",
       "      <td>0</td>\n",
       "    </tr>\n",
       "  </tbody>\n",
       "</table>\n",
       "</div>"
      ],
      "text/plain": [
       "    STATEFP20  COUNTYFP20  TRACTCE20         trct  NAME20    NAMELSAD20  \\\n",
       "77         21          67       4205  21067004205   42.05  Census Tract   \n",
       "78         21          67       4207  21067004207   42.07  Census Tract   \n",
       "79         21          67       4208  21067004208   42.08  Census Tract   \n",
       "80         21          67       4209  21067004209   42.09  Census Tract   \n",
       "81         21          67       4210  21067004210   42.10  Census Tract   \n",
       "\n",
       "   MTFCC20 FUNCSTAT20   ALAND20  AWATER20  INTPTLAT20  INTPTLON20  land_area  \\\n",
       "77   G5020          S   3689284     16699   37.989952  -84.577491      1.431   \n",
       "78   G5020          S  34955033    106219   38.013885  -84.622867     13.537   \n",
       "79   G5020          S   8321837         0   38.026559  -84.571985      3.213   \n",
       "80   G5020          S   1676129         0   37.979539  -84.560562      0.647   \n",
       "81   G5020          S   2829042         0   37.973347  -84.542794      1.092   \n",
       "\n",
       "    merged_fayette_data_CENSUS_TRACT  merged_fayette_data_MEDIAN_AGE  \\\n",
       "77                       21067004205                            42.9   \n",
       "78                       21067004207                            49.1   \n",
       "79                       21067004208                            42.5   \n",
       "80                       21067004209                            35.2   \n",
       "81                       21067004210                            33.0   \n",
       "\n",
       "    merged_fayette_data_LOW_INC_0  merged_fayette_data_HI_INC_0  \\\n",
       "77                            0.0                           0.0   \n",
       "78                            0.0                           0.0   \n",
       "79                           25.0                          10.0   \n",
       "80                           10.0                           0.0   \n",
       "81                           19.0                           0.0   \n",
       "\n",
       "    merged_fayette_data_LOW_INC_1P  merged_fayette_data_HI_INC_1P  \\\n",
       "77                           360.0                          180.0   \n",
       "78                           230.0                           85.0   \n",
       "79                           580.0                          165.0   \n",
       "80                           505.0                          170.0   \n",
       "81                           480.0                          170.0   \n",
       "\n",
       "    merged_fayette_data_P_BACH_25P  merged_fayette_data_FOOD_EMP  \\\n",
       "77                       47.007042                             0   \n",
       "78                       50.110497                           193   \n",
       "79                       51.132139                          1159   \n",
       "80                       43.029016                            79   \n",
       "81                       53.177258                            19   \n",
       "\n",
       "    merged_fayette_data_RETAIL_EMP  merged_fayette_data_OTHER_EMP  \\\n",
       "77                               0                            535   \n",
       "78                              65                           1014   \n",
       "79                             626                           3059   \n",
       "80                              28                             83   \n",
       "81                             298                            419   \n",
       "\n",
       "    merged_fayette_data_TOTAL_EMP_DEN  merged_fayette_data_LOGSUM  \\\n",
       "77                         373.864430                           0   \n",
       "78                          93.964689                           0   \n",
       "79                        1507.625272                           0   \n",
       "80                         293.663060                           0   \n",
       "81                         673.992674                           0   \n",
       "\n",
       "    merged_fayette_data_AIR_F  merged_fayette_data_TOR_F  \n",
       "77                          0                          0  \n",
       "78                          1                          0  \n",
       "79                          0                          0  \n",
       "80                          0                          0  \n",
       "81                          0                          0  "
      ]
     },
     "execution_count": 66,
     "metadata": {},
     "output_type": "execute_result"
    }
   ],
   "source": [
    "land_area.tail()"
   ]
  },
  {
   "cell_type": "code",
   "execution_count": null,
   "metadata": {},
   "outputs": [],
   "source": []
  },
  {
   "cell_type": "code",
   "execution_count": 60,
   "metadata": {},
   "outputs": [],
   "source": [
    "# merged "
   ]
  },
  {
   "cell_type": "code",
   "execution_count": 61,
   "metadata": {},
   "outputs": [],
   "source": [
    "wac_geo_grouped = pd.merge(wac_geo_grouped, land_area, on='trct', how='inner')"
   ]
  },
  {
   "cell_type": "code",
   "execution_count": 62,
   "metadata": {},
   "outputs": [],
   "source": [
    "wac_geo_grouped['TOTAL_EMP_DEN'] = (wac_geo_grouped['FOOD_EMP'] + wac_geo_grouped['RETAIL_EMP'] + wac_geo_grouped['OTHER_EMP']) / wac_geo_grouped['land_area']"
   ]
  },
  {
   "cell_type": "code",
   "execution_count": 63,
   "metadata": {},
   "outputs": [],
   "source": [
    "wac_geo_grouped = wac_geo_grouped[['trct', 'FOOD_EMP', 'RETAIL_EMP', 'OTHER_EMP', 'TOTAL_EMP_DEN']]"
   ]
  },
  {
   "cell_type": "code",
   "execution_count": 64,
   "metadata": {},
   "outputs": [
    {
     "data": {
      "text/plain": [
       "214686.21542419965"
      ]
     },
     "execution_count": 64,
     "metadata": {},
     "output_type": "execute_result"
    }
   ],
   "source": [
    "den_sum = wac_geo_grouped['TOTAL_EMP_DEN'].sum()\n",
    "den_sum"
   ]
  },
  {
   "cell_type": "code",
   "execution_count": 65,
   "metadata": {},
   "outputs": [
    {
     "data": {
      "text/html": [
       "<div>\n",
       "<style scoped>\n",
       "    .dataframe tbody tr th:only-of-type {\n",
       "        vertical-align: middle;\n",
       "    }\n",
       "\n",
       "    .dataframe tbody tr th {\n",
       "        vertical-align: top;\n",
       "    }\n",
       "\n",
       "    .dataframe thead th {\n",
       "        text-align: right;\n",
       "    }\n",
       "</style>\n",
       "<table border=\"1\" class=\"dataframe\">\n",
       "  <thead>\n",
       "    <tr style=\"text-align: right;\">\n",
       "      <th></th>\n",
       "      <th>trct</th>\n",
       "      <th>FOOD_EMP</th>\n",
       "      <th>RETAIL_EMP</th>\n",
       "      <th>OTHER_EMP</th>\n",
       "      <th>TOTAL_EMP_DEN</th>\n",
       "    </tr>\n",
       "  </thead>\n",
       "  <tbody>\n",
       "    <tr>\n",
       "      <th>0</th>\n",
       "      <td>21067000101</td>\n",
       "      <td>1465</td>\n",
       "      <td>264</td>\n",
       "      <td>8581</td>\n",
       "      <td>20497.017893</td>\n",
       "    </tr>\n",
       "    <tr>\n",
       "      <th>1</th>\n",
       "      <td>21067000102</td>\n",
       "      <td>569</td>\n",
       "      <td>48</td>\n",
       "      <td>1556</td>\n",
       "      <td>7124.590164</td>\n",
       "    </tr>\n",
       "    <tr>\n",
       "      <th>2</th>\n",
       "      <td>21067000200</td>\n",
       "      <td>143</td>\n",
       "      <td>120</td>\n",
       "      <td>1032</td>\n",
       "      <td>2133.443163</td>\n",
       "    </tr>\n",
       "    <tr>\n",
       "      <th>3</th>\n",
       "      <td>21067000300</td>\n",
       "      <td>9</td>\n",
       "      <td>50</td>\n",
       "      <td>119</td>\n",
       "      <td>425.837321</td>\n",
       "    </tr>\n",
       "    <tr>\n",
       "      <th>4</th>\n",
       "      <td>21067000400</td>\n",
       "      <td>23</td>\n",
       "      <td>38</td>\n",
       "      <td>841</td>\n",
       "      <td>1969.432314</td>\n",
       "    </tr>\n",
       "  </tbody>\n",
       "</table>\n",
       "</div>"
      ],
      "text/plain": [
       "          trct  FOOD_EMP  RETAIL_EMP  OTHER_EMP  TOTAL_EMP_DEN\n",
       "0  21067000101      1465         264       8581   20497.017893\n",
       "1  21067000102       569          48       1556    7124.590164\n",
       "2  21067000200       143         120       1032    2133.443163\n",
       "3  21067000300         9          50        119     425.837321\n",
       "4  21067000400        23          38        841    1969.432314"
      ]
     },
     "execution_count": 65,
     "metadata": {},
     "output_type": "execute_result"
    }
   ],
   "source": [
    "wac_geo_grouped.head()"
   ]
  },
  {
   "cell_type": "code",
   "execution_count": 184,
   "metadata": {},
   "outputs": [],
   "source": [
    "wac_geo_grouped.to_csv('../Cleaned_Inputs/Intermediate/wac.csv')"
   ]
  },
  {
   "cell_type": "code",
   "execution_count": null,
   "metadata": {},
   "outputs": [],
   "source": []
  },
  {
   "cell_type": "code",
   "execution_count": null,
   "metadata": {},
   "outputs": [],
   "source": []
  }
 ],
 "metadata": {
  "kernelspec": {
   "display_name": "Python 3 (ipykernel)",
   "language": "python",
   "name": "python3"
  },
  "language_info": {
   "codemirror_mode": {
    "name": "ipython",
    "version": 3
   },
   "file_extension": ".py",
   "mimetype": "text/x-python",
   "name": "python",
   "nbconvert_exporter": "python",
   "pygments_lexer": "ipython3",
   "version": "3.12.3"
  }
 },
 "nbformat": 4,
 "nbformat_minor": 4
}
