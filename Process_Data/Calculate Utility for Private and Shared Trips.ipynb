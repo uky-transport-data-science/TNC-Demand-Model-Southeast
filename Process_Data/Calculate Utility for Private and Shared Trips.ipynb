{
 "cells": [
  {
   "cell_type": "code",
   "execution_count": 281,
   "id": "11e4dba6-609c-456e-ba5e-f56be2458812",
   "metadata": {},
   "outputs": [],
   "source": [
    "import pandas as pd\n",
    "import numpy as np"
   ]
  },
  {
   "cell_type": "code",
   "execution_count": 282,
   "id": "714fe0bc-33e5-419b-9e48-fdd702402bfe",
   "metadata": {},
   "outputs": [],
   "source": [
    "pd.options.display.max_columns= 1000"
   ]
  },
  {
   "cell_type": "code",
   "execution_count": 283,
   "id": "7a7ae2f8-ac81-4929-94cb-52d026114d63",
   "metadata": {},
   "outputs": [],
   "source": [
    "utility = pd.read_csv('E:/CR2/Repos/TNC-Demand-Model-Southeast/Cleaned_Inputs/Intermediate/pred_trips.csv')"
   ]
  },
  {
   "cell_type": "code",
   "execution_count": null,
   "id": "357b099f-3008-4ec0-823e-6cb211a7daa5",
   "metadata": {},
   "outputs": [],
   "source": []
  },
  {
   "cell_type": "code",
   "execution_count": 284,
   "id": "aba4fedd-7f75-42c4-a482-055b82c82ec1",
   "metadata": {},
   "outputs": [],
   "source": [
    "# process acs s1903 data to get column for median income per census tract"
   ]
  },
  {
   "cell_type": "code",
   "execution_count": 285,
   "id": "afe3c1de-7320-427d-8d86-c184b44d86c5",
   "metadata": {},
   "outputs": [],
   "source": [
    "median_inc = pd.read_csv('E:/CR2/Repos/TNC-Demand-Model-Southeast/Raw_Inputs/ACS/S1903/S1903 Data.csv')"
   ]
  },
  {
   "cell_type": "code",
   "execution_count": 286,
   "id": "f47cfb91-ac61-428b-b40e-64ef2a0b36f7",
   "metadata": {},
   "outputs": [],
   "source": [
    "median_inc[['TRACT', 'COUNTY', 'STATE']] = median_inc.NAME.str.split(',', expand=True)"
   ]
  },
  {
   "cell_type": "code",
   "execution_count": 287,
   "id": "1cde01dd-c224-4cb3-a1d5-31853999d180",
   "metadata": {},
   "outputs": [],
   "source": [
    "median_inc = median_inc[median_inc['COUNTY'] == ' Fayette County']"
   ]
  },
  {
   "cell_type": "code",
   "execution_count": 288,
   "id": "d5ebcef6-790e-448b-9b0c-4aff14a5b4b2",
   "metadata": {},
   "outputs": [],
   "source": [
    "median_inc['CENSUS_TRACT'] = median_inc.apply(lambda row: row['GEO_ID'][9:], axis = 1)"
   ]
  },
  {
   "cell_type": "code",
   "execution_count": 289,
   "id": "0d53618b-009e-4aa4-9b09-b048bd3343f5",
   "metadata": {},
   "outputs": [],
   "source": [
    "median_inc = median_inc.rename(columns={'S1903_C03_001E': 'MEDIAN_INC'})"
   ]
  },
  {
   "cell_type": "code",
   "execution_count": 290,
   "id": "d500bd34-3c4e-4904-b3a8-943834d45e2c",
   "metadata": {},
   "outputs": [],
   "source": [
    "median_inc = median_inc[['CENSUS_TRACT', 'MEDIAN_INC']]"
   ]
  },
  {
   "cell_type": "code",
   "execution_count": null,
   "id": "aadc797e-98a8-4868-a043-5287780e69fc",
   "metadata": {},
   "outputs": [],
   "source": []
  },
  {
   "cell_type": "code",
   "execution_count": 291,
   "id": "e0fd5981-0bb5-44d6-b49c-cdcdbe7b74c3",
   "metadata": {},
   "outputs": [],
   "source": [
    "# merge utility with median on origin"
   ]
  },
  {
   "cell_type": "code",
   "execution_count": 292,
   "id": "05e63473-476d-42de-924a-8d3122493145",
   "metadata": {},
   "outputs": [],
   "source": [
    "utility = utility.merge(median_inc.astype(float), how='left', left_on='ORIGIN', right_on='CENSUS_TRACT')"
   ]
  },
  {
   "cell_type": "code",
   "execution_count": 293,
   "id": "f61885dd-0406-4bc9-a080-7d7bc9d497d9",
   "metadata": {},
   "outputs": [],
   "source": [
    "utility.rename(columns={'MEDIAN_INC': 'ORIGIN_MEDIAN_INC'}, inplace=True)\n",
    "utility.drop(columns='CENSUS_TRACT', inplace=True)"
   ]
  },
  {
   "cell_type": "code",
   "execution_count": null,
   "id": "be3f8eed-3fdf-4a12-9818-a4b40e9cd26b",
   "metadata": {},
   "outputs": [],
   "source": []
  },
  {
   "cell_type": "code",
   "execution_count": 294,
   "id": "d1ae59b3-ac77-4f66-b235-a65ec074ac8a",
   "metadata": {},
   "outputs": [],
   "source": [
    "# merge utility with median on destination"
   ]
  },
  {
   "cell_type": "code",
   "execution_count": 295,
   "id": "1cdb3fb0-615c-42bb-ad1d-e2ede315f9ba",
   "metadata": {},
   "outputs": [],
   "source": [
    "utility = utility.merge(median_inc.astype(float), how='left', left_on='DESTINATION', right_on='CENSUS_TRACT')"
   ]
  },
  {
   "cell_type": "code",
   "execution_count": 296,
   "id": "f30c8c8a-bc54-447c-bef4-a83a07b4b95b",
   "metadata": {},
   "outputs": [],
   "source": [
    "utility.rename(columns={'MEDIAN_INC': 'DESTINATION_MEDIAN_INC'}, inplace=True)\n",
    "utility.drop(columns='CENSUS_TRACT', inplace=True)"
   ]
  },
  {
   "cell_type": "code",
   "execution_count": null,
   "id": "24a51101-55b6-4998-9702-4532b69e8143",
   "metadata": {},
   "outputs": [],
   "source": []
  },
  {
   "cell_type": "code",
   "execution_count": 297,
   "id": "dc13bd63-6182-4d00-895e-fd83a73f8dc8",
   "metadata": {},
   "outputs": [],
   "source": [
    "# columns for if there is an airport in the origin or destination census tract"
   ]
  },
  {
   "cell_type": "code",
   "execution_count": 298,
   "id": "2c8bde99-3746-424f-a681-695333d601e3",
   "metadata": {},
   "outputs": [],
   "source": [
    "airport_census_tract = 21067004207"
   ]
  },
  {
   "cell_type": "code",
   "execution_count": 299,
   "id": "84d75916-a305-4f0c-802d-4e4641beb38e",
   "metadata": {},
   "outputs": [],
   "source": [
    "utility['ORIGIN_AIRPORT'] = utility['ORIGIN'] == airport_census_tract\n",
    "utility['DESTINATION_AIRPORT'] = utility['DESTINATION'] == airport_census_tract"
   ]
  },
  {
   "cell_type": "code",
   "execution_count": 300,
   "id": "5477f274-3ee5-4eb1-b878-aaa808da0a8e",
   "metadata": {},
   "outputs": [],
   "source": [
    "utility['ORIGIN_AIRPORT'] = utility['ORIGIN_AIRPORT'].astype(int)\n",
    "utility['DESTINATION_AIRPORT'] = utility['DESTINATION_AIRPORT'].astype(int)"
   ]
  },
  {
   "cell_type": "code",
   "execution_count": null,
   "id": "97195b0d-d475-4cc0-bfdc-e2b968fa8ab8",
   "metadata": {},
   "outputs": [],
   "source": []
  },
  {
   "cell_type": "code",
   "execution_count": 301,
   "id": "9465aa6c-6b19-4ac7-833a-e50d0e15ae2a",
   "metadata": {},
   "outputs": [],
   "source": [
    "# to convert origin and destination columns to standard notation so we can actually see each census tract\n",
    "utility['ORIGIN'] = utility['ORIGIN'].map('{:.0f}'.format)\n",
    "utility['DESTINATION'] = utility['DESTINATION'].map('{:.0f}'.format)"
   ]
  },
  {
   "cell_type": "code",
   "execution_count": null,
   "id": "555572c0-a40e-4205-8626-6cc0d289e3e2",
   "metadata": {},
   "outputs": [],
   "source": []
  },
  {
   "cell_type": "code",
   "execution_count": 302,
   "id": "13b2b6e2-3e24-4961-8e47-1b050fa7e2ad",
   "metadata": {},
   "outputs": [],
   "source": [
    "# CALCULATE UTILITY"
   ]
  },
  {
   "cell_type": "code",
   "execution_count": null,
   "id": "09f6dfd6-d57e-4af0-b481-d500ad36a700",
   "metadata": {},
   "outputs": [],
   "source": []
  },
  {
   "cell_type": "code",
   "execution_count": 303,
   "id": "cbb5b4ee-bacd-4b25-8461-29beb488c99f",
   "metadata": {},
   "outputs": [],
   "source": [
    "# calculate private trip utility using: (-0.110)(private travel time in miles) + (-0.138)(private fares in $)"
   ]
  },
  {
   "cell_type": "code",
   "execution_count": 304,
   "id": "7952e5e9-ce3a-4fca-a70f-c1dfd3895d85",
   "metadata": {},
   "outputs": [],
   "source": [
    "utility.loc[:, 'PRIVATE_UTILITY'] = (-0.110 * utility['PRIVATE_TRAVEL_TIME']) + (-0.138 * utility['PRIVATE_TRIP_FARES'])"
   ]
  },
  {
   "cell_type": "code",
   "execution_count": null,
   "id": "97bf53db-b4eb-4e32-8949-30e159e66618",
   "metadata": {},
   "outputs": [],
   "source": []
  },
  {
   "cell_type": "code",
   "execution_count": 305,
   "id": "b9cb8947-cd38-463f-9744-bf39b0da5c59",
   "metadata": {},
   "outputs": [],
   "source": [
    "# calculate shared trip utility using:\n",
    "# (-0.573) + (-.110)(shared travel time) + (-0.138)(shared cost) + (-0.068)(median income in origin zone ($50k would be 0.5)) +\n",
    "# (-0.048)(median income in destination zone ($50k would be 0.5)) - (-2.717)(if origin or destination has airport)"
   ]
  },
  {
   "cell_type": "code",
   "execution_count": 306,
   "id": "98fa8d80-42f2-4064-8132-2de5dd07f4c7",
   "metadata": {},
   "outputs": [],
   "source": [
    "utility.loc[:, 'NT_SHARED_UTILITY'] = (-0.573) + (-.110 * utility['NT_SHARED_TRAVEL_TIME']) + (-0.138 * utility['NT_SHARED_TRIP_FARES']) + (-0.068 * 0.00001 * utility['ORIGIN_MEDIAN_INC']) + (-0.048 * 0.00001 * utility['DESTINATION_MEDIAN_INC']) - (-2.717 * (utility['ORIGIN_AIRPORT'] | utility['DESTINATION_AIRPORT']).astype(int)) \n",
    "utility.loc[:, 'AM_SHARED_UTILITY'] = (-0.573) + (-.110 * utility['AM_SHARED_TRAVEL_TIME']) + (-0.138 * utility['AM_SHARED_TRIP_FARES']) + (-0.068 * 0.00001 * utility['ORIGIN_MEDIAN_INC']) + (-0.048 * 0.00001 * utility['DESTINATION_MEDIAN_INC']) - (-2.717 * (utility['ORIGIN_AIRPORT'] | utility['DESTINATION_AIRPORT']).astype(int))\n",
    "utility.loc[:, 'MD_SHARED_UTILITY'] = (-0.573) + (-.110 * utility['MD_SHARED_TRAVEL_TIME']) + (-0.138 * utility['MD_SHARED_TRIP_FARES']) + (-0.068 * 0.00001 * utility['ORIGIN_MEDIAN_INC']) + (-0.048 * 0.00001 * utility['DESTINATION_MEDIAN_INC']) - (-2.717 * (utility['ORIGIN_AIRPORT'] | utility['DESTINATION_AIRPORT']).astype(int))\n",
    "utility.loc[:, 'PM_SHARED_UTILITY'] = (-0.573) + (-.110 * utility['PM_SHARED_TRAVEL_TIME']) + (-0.138 * utility['PM_SHARED_TRIP_FARES']) + (-0.068 * 0.00001 * utility['ORIGIN_MEDIAN_INC']) + (-0.048 * 0.00001 * utility['DESTINATION_MEDIAN_INC']) - (-2.717 * (utility['ORIGIN_AIRPORT'] | utility['DESTINATION_AIRPORT']).astype(int))\n",
    "utility.loc[:, 'EV_SHARED_UTILITY'] = (-0.573) + (-.110 * utility['EV_SHARED_TRAVEL_TIME']) + (-0.138 * utility['EV_SHARED_TRIP_FARES']) + (-0.068 * 0.00001 * utility['ORIGIN_MEDIAN_INC']) + (-0.048 * 0.00001 * utility['DESTINATION_MEDIAN_INC']) - (-2.717 * (utility['ORIGIN_AIRPORT'] | utility['DESTINATION_AIRPORT']).astype(int))"
   ]
  },
  {
   "cell_type": "code",
   "execution_count": null,
   "id": "b1e502ae-d36c-4dc9-b919-fd18ea55cc57",
   "metadata": {},
   "outputs": [],
   "source": []
  },
  {
   "cell_type": "code",
   "execution_count": 307,
   "id": "6f880d67-71a7-40c1-953b-aae108d814ed",
   "metadata": {},
   "outputs": [],
   "source": [
    "# CALCULATE PROBABILITY OF TAKING A PRIVATE/SHARED RIDE BETWEEN A ZONE PAIR"
   ]
  },
  {
   "cell_type": "code",
   "execution_count": null,
   "id": "10ac3487-f51c-4bc6-bc3b-537e45a159eb",
   "metadata": {},
   "outputs": [],
   "source": []
  },
  {
   "cell_type": "code",
   "execution_count": 308,
   "id": "a0132093-8ca9-4b2a-82fc-56c0c7b3601e",
   "metadata": {},
   "outputs": [],
   "source": [
    "# equation for private ride probability will be: e^(Uprivate) / (e^(Uprivate) + e^(Ushared))"
   ]
  },
  {
   "cell_type": "code",
   "execution_count": 309,
   "id": "654df79d-c661-4781-be98-64ac89e73940",
   "metadata": {},
   "outputs": [],
   "source": [
    "utility.loc[:, 'PRIV_PROB'] = (np.exp(utility['PRIVATE_UTILITY'])) / ((np.exp(utility['PRIVATE_UTILITY'])) + (np.exp(utility['NT_SHARED_UTILITY'])) + (np.exp(utility['AM_SHARED_UTILITY'])) + (np.exp(utility['MD_SHARED_UTILITY'])) + (np.exp(utility['PM_SHARED_UTILITY'])) + (np.exp(utility['EV_SHARED_UTILITY'])))"
   ]
  },
  {
   "cell_type": "code",
   "execution_count": null,
   "id": "b2941b97-3947-46c1-877d-88f0fd5d5e1e",
   "metadata": {},
   "outputs": [],
   "source": []
  },
  {
   "cell_type": "code",
   "execution_count": 310,
   "id": "80ff5bcd-3319-4997-9ea1-76dac50cd79c",
   "metadata": {},
   "outputs": [],
   "source": [
    "# equation for shared ride probability will be: e^(Ushared) / (e^(Ushared) + e^(Uprivate))"
   ]
  },
  {
   "cell_type": "code",
   "execution_count": 311,
   "id": "663277ce-08d2-47be-b670-3e3489a242e8",
   "metadata": {},
   "outputs": [],
   "source": [
    "utility.loc[:, 'SHARED_PROB'] = ((np.exp(utility['NT_SHARED_UTILITY'])) + (np.exp(utility['AM_SHARED_UTILITY'])) + (np.exp(utility['MD_SHARED_UTILITY'])) + (np.exp(utility['PM_SHARED_UTILITY'])) + (np.exp(utility['EV_SHARED_UTILITY']))) / ((np.exp(utility['PRIVATE_UTILITY'])) + (np.exp(utility['NT_SHARED_UTILITY'])) + (np.exp(utility['AM_SHARED_UTILITY'])) + (np.exp(utility['MD_SHARED_UTILITY'])) + (np.exp(utility['PM_SHARED_UTILITY'])) + (np.exp(utility['EV_SHARED_UTILITY'])))"
   ]
  },
  {
   "cell_type": "code",
   "execution_count": null,
   "id": "2c38bcb6-8cc0-4d2b-9f6c-44d30c5d697d",
   "metadata": {},
   "outputs": [],
   "source": []
  },
  {
   "cell_type": "code",
   "execution_count": 312,
   "id": "d02a1ebf-928b-4c8f-96ec-7697433d6358",
   "metadata": {},
   "outputs": [],
   "source": [
    "# probabilities should add up to 1"
   ]
  },
  {
   "cell_type": "code",
   "execution_count": 313,
   "id": "a581ce0b-44c6-42ea-8b98-63e3b40e17a4",
   "metadata": {},
   "outputs": [],
   "source": [
    "utility['PROB_SUM'] = utility['PRIV_PROB'] + utility['SHARED_PROB']"
   ]
  },
  {
   "cell_type": "code",
   "execution_count": null,
   "id": "115c2def-bfe3-4ebc-95a4-d6d3d4e257e7",
   "metadata": {},
   "outputs": [],
   "source": []
  },
  {
   "cell_type": "code",
   "execution_count": 314,
   "id": "d1f18817-3a84-4997-8990-9ef44491fd12",
   "metadata": {},
   "outputs": [],
   "source": [
    "# logsum of e^(Uprivate) + e^(Ushared)"
   ]
  },
  {
   "cell_type": "code",
   "execution_count": 315,
   "id": "202c283e-68b5-47fc-8fa8-4f8d918cdeb2",
   "metadata": {},
   "outputs": [],
   "source": [
    "utility['LOGSUM'] = np.log((np.exp(utility['NT_SHARED_UTILITY'])) + (np.exp(utility['AM_SHARED_UTILITY'])) + (np.exp(utility['MD_SHARED_UTILITY'])) + (np.exp(utility['PM_SHARED_UTILITY'])) + (np.exp(utility['EV_SHARED_UTILITY'])) + (np.exp(utility['PRIVATE_UTILITY'])))"
   ]
  },
  {
   "cell_type": "code",
   "execution_count": null,
   "id": "8ca78762-bf61-449a-b2cb-1d819c5429a8",
   "metadata": {},
   "outputs": [],
   "source": []
  },
  {
   "cell_type": "code",
   "execution_count": 316,
   "id": "0fb362e5-24e2-40a3-b707-4a435df30aa8",
   "metadata": {},
   "outputs": [],
   "source": [
    "utility = utility.rename(columns={'DISTANCE_IN_MILES' : 'TRIP_LENGTH_MILES'})"
   ]
  },
  {
   "cell_type": "code",
   "execution_count": 317,
   "id": "2fb3fdb1-5cfd-45ca-9f38-0985abdfec09",
   "metadata": {},
   "outputs": [],
   "source": [
    "utility = utility[['ORIGIN', 'DESTINATION', 'TRAVEL_TIME_MINUTES', 'TRIP_LENGTH_MILES', 'PRIVATE_TRAVEL_TIME',  'NT_SHARED_TRAVEL_TIME', 'AM_SHARED_TRAVEL_TIME', 'MD_SHARED_TRAVEL_TIME', 'PM_SHARED_TRAVEL_TIME', 'EV_SHARED_TRAVEL_TIME', 'PRIVATE_TRIP_FARES', 'NT_SHARED_TRIP_FARES', 'AM_SHARED_TRIP_FARES', 'MD_SHARED_TRIP_FARES', 'PM_SHARED_TRIP_FARES', 'EV_SHARED_TRIP_FARES', 'PRIVATE_UTILITY', 'NT_SHARED_UTILITY', 'AM_SHARED_UTILITY', 'MD_SHARED_UTILITY', 'PM_SHARED_UTILITY', 'EV_SHARED_UTILITY', 'PRIV_PROB', 'SHARED_PROB', 'PROB_SUM', 'LOGSUM']]"
   ]
  },
  {
   "cell_type": "code",
   "execution_count": null,
   "id": "739b4d1f-04d9-41c5-8ced-e5b5c1bbd0b4",
   "metadata": {},
   "outputs": [],
   "source": []
  },
  {
   "cell_type": "code",
   "execution_count": 318,
   "id": "6d1fcf79-62b6-4db0-8e7f-56e1de26412f",
   "metadata": {},
   "outputs": [
    {
     "data": {
      "text/html": [
       "<div>\n",
       "<style scoped>\n",
       "    .dataframe tbody tr th:only-of-type {\n",
       "        vertical-align: middle;\n",
       "    }\n",
       "\n",
       "    .dataframe tbody tr th {\n",
       "        vertical-align: top;\n",
       "    }\n",
       "\n",
       "    .dataframe thead th {\n",
       "        text-align: right;\n",
       "    }\n",
       "</style>\n",
       "<table border=\"1\" class=\"dataframe\">\n",
       "  <thead>\n",
       "    <tr style=\"text-align: right;\">\n",
       "      <th></th>\n",
       "      <th>ORIGIN</th>\n",
       "      <th>DESTINATION</th>\n",
       "      <th>TRAVEL_TIME_MINUTES</th>\n",
       "      <th>TRIP_LENGTH_MILES</th>\n",
       "      <th>PRIVATE_TRAVEL_TIME</th>\n",
       "      <th>NT_SHARED_TRAVEL_TIME</th>\n",
       "      <th>AM_SHARED_TRAVEL_TIME</th>\n",
       "      <th>MD_SHARED_TRAVEL_TIME</th>\n",
       "      <th>PM_SHARED_TRAVEL_TIME</th>\n",
       "      <th>EV_SHARED_TRAVEL_TIME</th>\n",
       "      <th>PRIVATE_TRIP_FARES</th>\n",
       "      <th>NT_SHARED_TRIP_FARES</th>\n",
       "      <th>AM_SHARED_TRIP_FARES</th>\n",
       "      <th>MD_SHARED_TRIP_FARES</th>\n",
       "      <th>PM_SHARED_TRIP_FARES</th>\n",
       "      <th>EV_SHARED_TRIP_FARES</th>\n",
       "      <th>PRIVATE_UTILITY</th>\n",
       "      <th>NT_SHARED_UTILITY</th>\n",
       "      <th>AM_SHARED_UTILITY</th>\n",
       "      <th>MD_SHARED_UTILITY</th>\n",
       "      <th>PM_SHARED_UTILITY</th>\n",
       "      <th>EV_SHARED_UTILITY</th>\n",
       "      <th>PRIV_PROB</th>\n",
       "      <th>SHARED_PROB</th>\n",
       "      <th>PROB_SUM</th>\n",
       "      <th>LOGSUM</th>\n",
       "    </tr>\n",
       "  </thead>\n",
       "  <tbody>\n",
       "    <tr>\n",
       "      <th>0</th>\n",
       "      <td>21067000101</td>\n",
       "      <td>21067000101</td>\n",
       "      <td>0.600000</td>\n",
       "      <td>0.000000</td>\n",
       "      <td>0.600000</td>\n",
       "      <td>0.727506</td>\n",
       "      <td>0.699501</td>\n",
       "      <td>0.659889</td>\n",
       "      <td>0.656997</td>\n",
       "      <td>0.713711</td>\n",
       "      <td>2.077020</td>\n",
       "      <td>2.693250</td>\n",
       "      <td>2.691570</td>\n",
       "      <td>2.689193</td>\n",
       "      <td>2.689020</td>\n",
       "      <td>2.692423</td>\n",
       "      <td>-0.352629</td>\n",
       "      <td>-1.054115</td>\n",
       "      <td>-1.050803</td>\n",
       "      <td>-1.046118</td>\n",
       "      <td>-1.045775</td>\n",
       "      <td>-1.052484</td>\n",
       "      <td>0.286547</td>\n",
       "      <td>0.713453</td>\n",
       "      <td>1.0</td>\n",
       "      <td>0.897224</td>\n",
       "    </tr>\n",
       "    <tr>\n",
       "      <th>1</th>\n",
       "      <td>21067000101</td>\n",
       "      <td>21067000102</td>\n",
       "      <td>6.233333</td>\n",
       "      <td>0.644906</td>\n",
       "      <td>6.233333</td>\n",
       "      <td>7.557981</td>\n",
       "      <td>7.267039</td>\n",
       "      <td>6.855511</td>\n",
       "      <td>6.825466</td>\n",
       "      <td>7.414661</td>\n",
       "      <td>4.275116</td>\n",
       "      <td>3.577020</td>\n",
       "      <td>3.559564</td>\n",
       "      <td>3.534872</td>\n",
       "      <td>3.533070</td>\n",
       "      <td>3.568421</td>\n",
       "      <td>-1.275633</td>\n",
       "      <td>-1.927963</td>\n",
       "      <td>-1.893550</td>\n",
       "      <td>-1.844874</td>\n",
       "      <td>-1.841321</td>\n",
       "      <td>-1.911011</td>\n",
       "      <td>0.268560</td>\n",
       "      <td>0.731440</td>\n",
       "      <td>1.0</td>\n",
       "      <td>0.039046</td>\n",
       "    </tr>\n",
       "    <tr>\n",
       "      <th>2</th>\n",
       "      <td>21067000101</td>\n",
       "      <td>21067000200</td>\n",
       "      <td>10.383333</td>\n",
       "      <td>0.890833</td>\n",
       "      <td>10.383333</td>\n",
       "      <td>12.589899</td>\n",
       "      <td>12.105254</td>\n",
       "      <td>11.419742</td>\n",
       "      <td>11.369694</td>\n",
       "      <td>12.351160</td>\n",
       "      <td>5.692253</td>\n",
       "      <td>4.059667</td>\n",
       "      <td>4.030589</td>\n",
       "      <td>3.989458</td>\n",
       "      <td>3.986455</td>\n",
       "      <td>4.045343</td>\n",
       "      <td>-1.927698</td>\n",
       "      <td>-2.548198</td>\n",
       "      <td>-2.490874</td>\n",
       "      <td>-2.409792</td>\n",
       "      <td>-2.403872</td>\n",
       "      <td>-2.519960</td>\n",
       "      <td>0.256490</td>\n",
       "      <td>0.743510</td>\n",
       "      <td>1.0</td>\n",
       "      <td>-0.567031</td>\n",
       "    </tr>\n",
       "    <tr>\n",
       "      <th>3</th>\n",
       "      <td>21067000101</td>\n",
       "      <td>21067000400</td>\n",
       "      <td>8.950000</td>\n",
       "      <td>1.046286</td>\n",
       "      <td>8.950000</td>\n",
       "      <td>10.851967</td>\n",
       "      <td>10.434224</td>\n",
       "      <td>9.843341</td>\n",
       "      <td>9.800201</td>\n",
       "      <td>10.646185</td>\n",
       "      <td>5.414873</td>\n",
       "      <td>4.069633</td>\n",
       "      <td>4.044569</td>\n",
       "      <td>4.009116</td>\n",
       "      <td>4.006527</td>\n",
       "      <td>4.057286</td>\n",
       "      <td>-1.731753</td>\n",
       "      <td>-2.358548</td>\n",
       "      <td>-2.309137</td>\n",
       "      <td>-2.239247</td>\n",
       "      <td>-2.234145</td>\n",
       "      <td>-2.334208</td>\n",
       "      <td>0.259726</td>\n",
       "      <td>0.740274</td>\n",
       "      <td>1.0</td>\n",
       "      <td>-0.383623</td>\n",
       "    </tr>\n",
       "    <tr>\n",
       "      <th>4</th>\n",
       "      <td>21067000101</td>\n",
       "      <td>21067000500</td>\n",
       "      <td>7.533333</td>\n",
       "      <td>1.053952</td>\n",
       "      <td>7.533333</td>\n",
       "      <td>9.134244</td>\n",
       "      <td>8.782624</td>\n",
       "      <td>8.285270</td>\n",
       "      <td>8.248959</td>\n",
       "      <td>8.961035</td>\n",
       "      <td>5.011937</td>\n",
       "      <td>3.972204</td>\n",
       "      <td>3.951107</td>\n",
       "      <td>3.921266</td>\n",
       "      <td>3.919087</td>\n",
       "      <td>3.961811</td>\n",
       "      <td>-1.520314</td>\n",
       "      <td>-2.175860</td>\n",
       "      <td>-2.134271</td>\n",
       "      <td>-2.075443</td>\n",
       "      <td>-2.071149</td>\n",
       "      <td>-2.155373</td>\n",
       "      <td>0.267327</td>\n",
       "      <td>0.732673</td>\n",
       "      <td>1.0</td>\n",
       "      <td>-0.201032</td>\n",
       "    </tr>\n",
       "  </tbody>\n",
       "</table>\n",
       "</div>"
      ],
      "text/plain": [
       "        ORIGIN  DESTINATION  TRAVEL_TIME_MINUTES  TRIP_LENGTH_MILES  PRIVATE_TRAVEL_TIME  NT_SHARED_TRAVEL_TIME  AM_SHARED_TRAVEL_TIME  MD_SHARED_TRAVEL_TIME  PM_SHARED_TRAVEL_TIME  EV_SHARED_TRAVEL_TIME  PRIVATE_TRIP_FARES  NT_SHARED_TRIP_FARES  AM_SHARED_TRIP_FARES  MD_SHARED_TRIP_FARES  PM_SHARED_TRIP_FARES  EV_SHARED_TRIP_FARES  PRIVATE_UTILITY  NT_SHARED_UTILITY  AM_SHARED_UTILITY  MD_SHARED_UTILITY  PM_SHARED_UTILITY  EV_SHARED_UTILITY  PRIV_PROB  SHARED_PROB  PROB_SUM    LOGSUM\n",
       "0  21067000101  21067000101             0.600000           0.000000             0.600000               0.727506               0.699501               0.659889               0.656997               0.713711            2.077020              2.693250              2.691570              2.689193              2.689020              2.692423        -0.352629          -1.054115          -1.050803          -1.046118          -1.045775          -1.052484   0.286547     0.713453       1.0  0.897224\n",
       "1  21067000101  21067000102             6.233333           0.644906             6.233333               7.557981               7.267039               6.855511               6.825466               7.414661            4.275116              3.577020              3.559564              3.534872              3.533070              3.568421        -1.275633          -1.927963          -1.893550          -1.844874          -1.841321          -1.911011   0.268560     0.731440       1.0  0.039046\n",
       "2  21067000101  21067000200            10.383333           0.890833            10.383333              12.589899              12.105254              11.419742              11.369694              12.351160            5.692253              4.059667              4.030589              3.989458              3.986455              4.045343        -1.927698          -2.548198          -2.490874          -2.409792          -2.403872          -2.519960   0.256490     0.743510       1.0 -0.567031\n",
       "3  21067000101  21067000400             8.950000           1.046286             8.950000              10.851967              10.434224               9.843341               9.800201              10.646185            5.414873              4.069633              4.044569              4.009116              4.006527              4.057286        -1.731753          -2.358548          -2.309137          -2.239247          -2.234145          -2.334208   0.259726     0.740274       1.0 -0.383623\n",
       "4  21067000101  21067000500             7.533333           1.053952             7.533333               9.134244               8.782624               8.285270               8.248959               8.961035            5.011937              3.972204              3.951107              3.921266              3.919087              3.961811        -1.520314          -2.175860          -2.134271          -2.075443          -2.071149          -2.155373   0.267327     0.732673       1.0 -0.201032"
      ]
     },
     "execution_count": 318,
     "metadata": {},
     "output_type": "execute_result"
    }
   ],
   "source": [
    "utility.head()"
   ]
  },
  {
   "cell_type": "code",
   "execution_count": null,
   "id": "35b25bb7-1db3-4314-9e45-aff101fb0494",
   "metadata": {},
   "outputs": [],
   "source": []
  },
  {
   "cell_type": "code",
   "execution_count": null,
   "id": "fe48d712-e09f-4c95-9092-895104e0165d",
   "metadata": {},
   "outputs": [],
   "source": []
  },
  {
   "cell_type": "code",
   "execution_count": null,
   "id": "f85db5f4-cc6e-40fd-b5f9-1cc042a73040",
   "metadata": {},
   "outputs": [],
   "source": []
  },
  {
   "cell_type": "code",
   "execution_count": 279,
   "id": "c8f72953-b1a4-47d2-8ccd-bcc1627bc341",
   "metadata": {},
   "outputs": [],
   "source": [
    "utility.to_csv('E:/CR2/Repos/TNC-Demand-Model-Southeast/Cleaned_Inputs/Intermediate/utiltiy_and_probability_output.csv')"
   ]
  },
  {
   "cell_type": "code",
   "execution_count": null,
   "id": "111ffdfd-94b1-4e76-b450-b3d14a7bfb69",
   "metadata": {},
   "outputs": [],
   "source": []
  }
 ],
 "metadata": {
  "kernelspec": {
   "display_name": "Python 3 (ipykernel)",
   "language": "python",
   "name": "python3"
  },
  "language_info": {
   "codemirror_mode": {
    "name": "ipython",
    "version": 3
   },
   "file_extension": ".py",
   "mimetype": "text/x-python",
   "name": "python",
   "nbconvert_exporter": "python",
   "pygments_lexer": "ipython3",
   "version": "3.12.3"
  }
 },
 "nbformat": 4,
 "nbformat_minor": 5
}
