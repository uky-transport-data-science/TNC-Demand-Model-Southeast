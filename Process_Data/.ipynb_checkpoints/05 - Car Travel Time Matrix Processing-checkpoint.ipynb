{
 "cells": [
  {
   "cell_type": "code",
   "execution_count": 19,
   "id": "2074012b-779c-4957-bbe6-0ddedaec9800",
   "metadata": {},
   "outputs": [],
   "source": [
    "import pandas as pd\n",
    "import numpy as np"
   ]
  },
  {
   "cell_type": "code",
   "execution_count": 20,
   "id": "78a2d5d7-8420-4520-a044-46cabc877cac",
   "metadata": {},
   "outputs": [],
   "source": [
    "# show every column when displaying data\n",
    "pd.options.display.max_columns= 1000 "
   ]
  },
  {
   "cell_type": "code",
   "execution_count": null,
   "id": "9193d0b2-8bc8-4395-bde9-5b68c5a17fa8",
   "metadata": {},
   "outputs": [],
   "source": []
  },
  {
   "cell_type": "code",
   "execution_count": 21,
   "id": "7ac2c142-8ce6-488f-aefe-06403f2e5c19",
   "metadata": {},
   "outputs": [],
   "source": [
    "d_matrix = pd.read_csv('E:/CR2/Repos/TNC-Demand-Model-Southeast/OTP/Car Travel Times/20190605/traveltime_matrix_/traveltime.csv')"
   ]
  },
  {
   "cell_type": "code",
   "execution_count": 22,
   "id": "e2a29105-0a44-4dc1-9e33-d3a5c6c36583",
   "metadata": {},
   "outputs": [],
   "source": [
    "# convert car travel time from seconds to minutes\n",
    "d_matrix['travel_time'] /= 60"
   ]
  },
  {
   "cell_type": "code",
   "execution_count": 23,
   "id": "0c904327-f76d-47cd-9fd0-8af8961f1bcd",
   "metadata": {},
   "outputs": [
    {
     "data": {
      "text/html": [
       "<div>\n",
       "<style scoped>\n",
       "    .dataframe tbody tr th:only-of-type {\n",
       "        vertical-align: middle;\n",
       "    }\n",
       "\n",
       "    .dataframe tbody tr th {\n",
       "        vertical-align: top;\n",
       "    }\n",
       "\n",
       "    .dataframe thead th {\n",
       "        text-align: right;\n",
       "    }\n",
       "</style>\n",
       "<table border=\"1\" class=\"dataframe\">\n",
       "  <thead>\n",
       "    <tr style=\"text-align: right;\">\n",
       "      <th></th>\n",
       "      <th>year</th>\n",
       "      <th>depart_time</th>\n",
       "      <th>origin</th>\n",
       "      <th>destination</th>\n",
       "      <th>walk_distance</th>\n",
       "      <th>travel_time</th>\n",
       "    </tr>\n",
       "  </thead>\n",
       "  <tbody>\n",
       "    <tr>\n",
       "      <th>0</th>\n",
       "      <td>20190605</td>\n",
       "      <td>1:522:00</td>\n",
       "      <td>21067000101</td>\n",
       "      <td>21067000101</td>\n",
       "      <td>48.0</td>\n",
       "      <td>0.600000</td>\n",
       "    </tr>\n",
       "    <tr>\n",
       "      <th>1</th>\n",
       "      <td>20190605</td>\n",
       "      <td>1:522:00</td>\n",
       "      <td>21067000101</td>\n",
       "      <td>21067000102</td>\n",
       "      <td>55.0</td>\n",
       "      <td>6.233333</td>\n",
       "    </tr>\n",
       "    <tr>\n",
       "      <th>2</th>\n",
       "      <td>20190605</td>\n",
       "      <td>1:522:00</td>\n",
       "      <td>21067000101</td>\n",
       "      <td>21067000200</td>\n",
       "      <td>77.0</td>\n",
       "      <td>10.383333</td>\n",
       "    </tr>\n",
       "    <tr>\n",
       "      <th>3</th>\n",
       "      <td>20190605</td>\n",
       "      <td>1:522:00</td>\n",
       "      <td>21067000101</td>\n",
       "      <td>21067000400</td>\n",
       "      <td>40.0</td>\n",
       "      <td>8.950000</td>\n",
       "    </tr>\n",
       "    <tr>\n",
       "      <th>4</th>\n",
       "      <td>20190605</td>\n",
       "      <td>1:522:00</td>\n",
       "      <td>21067000101</td>\n",
       "      <td>21067000500</td>\n",
       "      <td>NaN</td>\n",
       "      <td>7.533333</td>\n",
       "    </tr>\n",
       "  </tbody>\n",
       "</table>\n",
       "</div>"
      ],
      "text/plain": [
       "       year depart_time       origin  destination  walk_distance  travel_time\n",
       "0  20190605    1:522:00  21067000101  21067000101           48.0     0.600000\n",
       "1  20190605    1:522:00  21067000101  21067000102           55.0     6.233333\n",
       "2  20190605    1:522:00  21067000101  21067000200           77.0    10.383333\n",
       "3  20190605    1:522:00  21067000101  21067000400           40.0     8.950000\n",
       "4  20190605    1:522:00  21067000101  21067000500            NaN     7.533333"
      ]
     },
     "execution_count": 23,
     "metadata": {},
     "output_type": "execute_result"
    }
   ],
   "source": [
    "d_matrix.head()"
   ]
  },
  {
   "cell_type": "code",
   "execution_count": null,
   "id": "a1de03af-76e8-42eb-9912-f43cf3d8b813",
   "metadata": {},
   "outputs": [],
   "source": []
  }
 ],
 "metadata": {
  "kernelspec": {
   "display_name": "Python 3 (ipykernel)",
   "language": "python",
   "name": "python3"
  },
  "language_info": {
   "codemirror_mode": {
    "name": "ipython",
    "version": 3
   },
   "file_extension": ".py",
   "mimetype": "text/x-python",
   "name": "python",
   "nbconvert_exporter": "python",
   "pygments_lexer": "ipython3",
   "version": "3.12.3"
  }
 },
 "nbformat": 4,
 "nbformat_minor": 5
}
