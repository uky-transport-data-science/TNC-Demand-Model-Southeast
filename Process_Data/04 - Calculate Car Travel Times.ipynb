{
 "cells": [
  {
   "cell_type": "code",
   "execution_count": 155,
   "metadata": {},
   "outputs": [],
   "source": [
    "import pandas as pd\n",
    "import numpy as np"
   ]
  },
  {
   "cell_type": "code",
   "execution_count": 156,
   "metadata": {},
   "outputs": [],
   "source": [
    "otp = pd.read_csv('E:/CR2/Repos/TNC-Demand-Model-Southeast/OTP/Car Travel Times/20190605/traveltime_matrix_/traveltime.csv')"
   ]
  },
  {
   "cell_type": "code",
   "execution_count": 157,
   "metadata": {},
   "outputs": [],
   "source": [
    "otp['ORIGIN'] = otp.origin.astype(float)\n",
    "otp['DESTINATION'] = otp.destination.astype(float)"
   ]
  },
  {
   "cell_type": "code",
   "execution_count": 158,
   "metadata": {},
   "outputs": [],
   "source": [
    "otp['TRAVEL_TIME_MINUTES'] = otp['travel_time']/60"
   ]
  },
  {
   "cell_type": "code",
   "execution_count": 159,
   "metadata": {},
   "outputs": [],
   "source": [
    "otp['year'] = 2019"
   ]
  },
  {
   "cell_type": "code",
   "execution_count": 160,
   "metadata": {},
   "outputs": [
    {
     "data": {
      "text/html": [
       "<div>\n",
       "<style scoped>\n",
       "    .dataframe tbody tr th:only-of-type {\n",
       "        vertical-align: middle;\n",
       "    }\n",
       "\n",
       "    .dataframe tbody tr th {\n",
       "        vertical-align: top;\n",
       "    }\n",
       "\n",
       "    .dataframe thead th {\n",
       "        text-align: right;\n",
       "    }\n",
       "</style>\n",
       "<table border=\"1\" class=\"dataframe\">\n",
       "  <thead>\n",
       "    <tr style=\"text-align: right;\">\n",
       "      <th></th>\n",
       "      <th>year</th>\n",
       "      <th>depart_time</th>\n",
       "      <th>origin</th>\n",
       "      <th>destination</th>\n",
       "      <th>walk_distance</th>\n",
       "      <th>travel_time</th>\n",
       "      <th>ORIGIN</th>\n",
       "      <th>DESTINATION</th>\n",
       "      <th>TRAVEL_TIME_MINUTES</th>\n",
       "    </tr>\n",
       "  </thead>\n",
       "  <tbody>\n",
       "    <tr>\n",
       "      <th>0</th>\n",
       "      <td>2019</td>\n",
       "      <td>0:873:00</td>\n",
       "      <td>21067000101</td>\n",
       "      <td>21067000101</td>\n",
       "      <td>48.0</td>\n",
       "      <td>36</td>\n",
       "      <td>2.106700e+10</td>\n",
       "      <td>2.106700e+10</td>\n",
       "      <td>0.600000</td>\n",
       "    </tr>\n",
       "    <tr>\n",
       "      <th>1</th>\n",
       "      <td>2019</td>\n",
       "      <td>0:873:00</td>\n",
       "      <td>21067000101</td>\n",
       "      <td>21067000102</td>\n",
       "      <td>55.0</td>\n",
       "      <td>374</td>\n",
       "      <td>2.106700e+10</td>\n",
       "      <td>2.106700e+10</td>\n",
       "      <td>6.233333</td>\n",
       "    </tr>\n",
       "    <tr>\n",
       "      <th>2</th>\n",
       "      <td>2019</td>\n",
       "      <td>0:873:00</td>\n",
       "      <td>21067000101</td>\n",
       "      <td>21067000200</td>\n",
       "      <td>77.0</td>\n",
       "      <td>623</td>\n",
       "      <td>2.106700e+10</td>\n",
       "      <td>2.106700e+10</td>\n",
       "      <td>10.383333</td>\n",
       "    </tr>\n",
       "    <tr>\n",
       "      <th>3</th>\n",
       "      <td>2019</td>\n",
       "      <td>0:873:00</td>\n",
       "      <td>21067000101</td>\n",
       "      <td>21067000400</td>\n",
       "      <td>40.0</td>\n",
       "      <td>537</td>\n",
       "      <td>2.106700e+10</td>\n",
       "      <td>2.106700e+10</td>\n",
       "      <td>8.950000</td>\n",
       "    </tr>\n",
       "    <tr>\n",
       "      <th>4</th>\n",
       "      <td>2019</td>\n",
       "      <td>0:873:00</td>\n",
       "      <td>21067000101</td>\n",
       "      <td>21067000500</td>\n",
       "      <td>NaN</td>\n",
       "      <td>452</td>\n",
       "      <td>2.106700e+10</td>\n",
       "      <td>2.106700e+10</td>\n",
       "      <td>7.533333</td>\n",
       "    </tr>\n",
       "  </tbody>\n",
       "</table>\n",
       "</div>"
      ],
      "text/plain": [
       "   year depart_time       origin  destination  walk_distance  travel_time  \\\n",
       "0  2019    0:873:00  21067000101  21067000101           48.0           36   \n",
       "1  2019    0:873:00  21067000101  21067000102           55.0          374   \n",
       "2  2019    0:873:00  21067000101  21067000200           77.0          623   \n",
       "3  2019    0:873:00  21067000101  21067000400           40.0          537   \n",
       "4  2019    0:873:00  21067000101  21067000500            NaN          452   \n",
       "\n",
       "         ORIGIN   DESTINATION  TRAVEL_TIME_MINUTES  \n",
       "0  2.106700e+10  2.106700e+10             0.600000  \n",
       "1  2.106700e+10  2.106700e+10             6.233333  \n",
       "2  2.106700e+10  2.106700e+10            10.383333  \n",
       "3  2.106700e+10  2.106700e+10             8.950000  \n",
       "4  2.106700e+10  2.106700e+10             7.533333  "
      ]
     },
     "execution_count": 160,
     "metadata": {},
     "output_type": "execute_result"
    }
   ],
   "source": [
    "otp.head()"
   ]
  },
  {
   "cell_type": "code",
   "execution_count": 161,
   "metadata": {},
   "outputs": [],
   "source": [
    "otp = otp[['year', 'depart_time', 'ORIGIN', 'DESTINATION', 'walk_distance', 'TRAVEL_TIME_MINUTES']]"
   ]
  },
  {
   "cell_type": "code",
   "execution_count": 162,
   "metadata": {},
   "outputs": [],
   "source": [
    "# walk distance is average meters walked to pick up zone"
   ]
  },
  {
   "cell_type": "code",
   "execution_count": 163,
   "metadata": {
    "scrolled": true
   },
   "outputs": [
    {
     "data": {
      "text/html": [
       "<div>\n",
       "<style scoped>\n",
       "    .dataframe tbody tr th:only-of-type {\n",
       "        vertical-align: middle;\n",
       "    }\n",
       "\n",
       "    .dataframe tbody tr th {\n",
       "        vertical-align: top;\n",
       "    }\n",
       "\n",
       "    .dataframe thead th {\n",
       "        text-align: right;\n",
       "    }\n",
       "</style>\n",
       "<table border=\"1\" class=\"dataframe\">\n",
       "  <thead>\n",
       "    <tr style=\"text-align: right;\">\n",
       "      <th></th>\n",
       "      <th>year</th>\n",
       "      <th>depart_time</th>\n",
       "      <th>ORIGIN</th>\n",
       "      <th>DESTINATION</th>\n",
       "      <th>walk_distance</th>\n",
       "      <th>TRAVEL_TIME_MINUTES</th>\n",
       "    </tr>\n",
       "  </thead>\n",
       "  <tbody>\n",
       "    <tr>\n",
       "      <th>0</th>\n",
       "      <td>2019</td>\n",
       "      <td>0:873:00</td>\n",
       "      <td>2.106700e+10</td>\n",
       "      <td>2.106700e+10</td>\n",
       "      <td>48.0</td>\n",
       "      <td>0.600000</td>\n",
       "    </tr>\n",
       "    <tr>\n",
       "      <th>1</th>\n",
       "      <td>2019</td>\n",
       "      <td>0:873:00</td>\n",
       "      <td>2.106700e+10</td>\n",
       "      <td>2.106700e+10</td>\n",
       "      <td>55.0</td>\n",
       "      <td>6.233333</td>\n",
       "    </tr>\n",
       "    <tr>\n",
       "      <th>2</th>\n",
       "      <td>2019</td>\n",
       "      <td>0:873:00</td>\n",
       "      <td>2.106700e+10</td>\n",
       "      <td>2.106700e+10</td>\n",
       "      <td>77.0</td>\n",
       "      <td>10.383333</td>\n",
       "    </tr>\n",
       "    <tr>\n",
       "      <th>3</th>\n",
       "      <td>2019</td>\n",
       "      <td>0:873:00</td>\n",
       "      <td>2.106700e+10</td>\n",
       "      <td>2.106700e+10</td>\n",
       "      <td>40.0</td>\n",
       "      <td>8.950000</td>\n",
       "    </tr>\n",
       "    <tr>\n",
       "      <th>4</th>\n",
       "      <td>2019</td>\n",
       "      <td>0:873:00</td>\n",
       "      <td>2.106700e+10</td>\n",
       "      <td>2.106700e+10</td>\n",
       "      <td>NaN</td>\n",
       "      <td>7.533333</td>\n",
       "    </tr>\n",
       "  </tbody>\n",
       "</table>\n",
       "</div>"
      ],
      "text/plain": [
       "   year depart_time        ORIGIN   DESTINATION  walk_distance  \\\n",
       "0  2019    0:873:00  2.106700e+10  2.106700e+10           48.0   \n",
       "1  2019    0:873:00  2.106700e+10  2.106700e+10           55.0   \n",
       "2  2019    0:873:00  2.106700e+10  2.106700e+10           77.0   \n",
       "3  2019    0:873:00  2.106700e+10  2.106700e+10           40.0   \n",
       "4  2019    0:873:00  2.106700e+10  2.106700e+10            NaN   \n",
       "\n",
       "   TRAVEL_TIME_MINUTES  \n",
       "0             0.600000  \n",
       "1             6.233333  \n",
       "2            10.383333  \n",
       "3             8.950000  \n",
       "4             7.533333  "
      ]
     },
     "execution_count": 163,
     "metadata": {},
     "output_type": "execute_result"
    }
   ],
   "source": [
    "otp.head()"
   ]
  },
  {
   "cell_type": "code",
   "execution_count": null,
   "metadata": {},
   "outputs": [],
   "source": []
  },
  {
   "cell_type": "code",
   "execution_count": 164,
   "metadata": {},
   "outputs": [],
   "source": [
    "distance = pd.read_csv('E:/CR2/Repos/TNC-Demand-Model-Southeast/Cleaned_Inputs/Intermediate/fayette_distance_matrix.csv')"
   ]
  },
  {
   "cell_type": "code",
   "execution_count": 165,
   "metadata": {},
   "outputs": [
    {
     "data": {
      "text/html": [
       "<div>\n",
       "<style scoped>\n",
       "    .dataframe tbody tr th:only-of-type {\n",
       "        vertical-align: middle;\n",
       "    }\n",
       "\n",
       "    .dataframe tbody tr th {\n",
       "        vertical-align: top;\n",
       "    }\n",
       "\n",
       "    .dataframe thead th {\n",
       "        text-align: right;\n",
       "    }\n",
       "</style>\n",
       "<table border=\"1\" class=\"dataframe\">\n",
       "  <thead>\n",
       "    <tr style=\"text-align: right;\">\n",
       "      <th></th>\n",
       "      <th>Unnamed: 0</th>\n",
       "      <th>ORIGIN</th>\n",
       "      <th>DESTINATION</th>\n",
       "      <th>DISTANCE_IN_MILES</th>\n",
       "    </tr>\n",
       "  </thead>\n",
       "  <tbody>\n",
       "    <tr>\n",
       "      <th>0</th>\n",
       "      <td>0</td>\n",
       "      <td>21067000101</td>\n",
       "      <td>21067000101</td>\n",
       "      <td>0.000000</td>\n",
       "    </tr>\n",
       "    <tr>\n",
       "      <th>1</th>\n",
       "      <td>1</td>\n",
       "      <td>21067000101</td>\n",
       "      <td>21067000102</td>\n",
       "      <td>0.644906</td>\n",
       "    </tr>\n",
       "    <tr>\n",
       "      <th>2</th>\n",
       "      <td>2</td>\n",
       "      <td>21067000101</td>\n",
       "      <td>21067000200</td>\n",
       "      <td>0.890833</td>\n",
       "    </tr>\n",
       "    <tr>\n",
       "      <th>3</th>\n",
       "      <td>3</td>\n",
       "      <td>21067000101</td>\n",
       "      <td>21067000300</td>\n",
       "      <td>0.701851</td>\n",
       "    </tr>\n",
       "    <tr>\n",
       "      <th>4</th>\n",
       "      <td>4</td>\n",
       "      <td>21067000101</td>\n",
       "      <td>21067000400</td>\n",
       "      <td>1.046286</td>\n",
       "    </tr>\n",
       "  </tbody>\n",
       "</table>\n",
       "</div>"
      ],
      "text/plain": [
       "   Unnamed: 0       ORIGIN  DESTINATION  DISTANCE_IN_MILES\n",
       "0           0  21067000101  21067000101           0.000000\n",
       "1           1  21067000101  21067000102           0.644906\n",
       "2           2  21067000101  21067000200           0.890833\n",
       "3           3  21067000101  21067000300           0.701851\n",
       "4           4  21067000101  21067000400           1.046286"
      ]
     },
     "execution_count": 165,
     "metadata": {},
     "output_type": "execute_result"
    }
   ],
   "source": [
    "distance.head()"
   ]
  },
  {
   "cell_type": "code",
   "execution_count": null,
   "metadata": {},
   "outputs": [],
   "source": []
  },
  {
   "cell_type": "code",
   "execution_count": null,
   "metadata": {},
   "outputs": [],
   "source": []
  },
  {
   "cell_type": "code",
   "execution_count": 166,
   "metadata": {},
   "outputs": [],
   "source": [
    "# calculate private/shared trips"
   ]
  },
  {
   "cell_type": "code",
   "execution_count": null,
   "metadata": {},
   "outputs": [],
   "source": []
  },
  {
   "cell_type": "code",
   "execution_count": 167,
   "metadata": {},
   "outputs": [],
   "source": [
    "# kept private trips the same as given travel time. \n",
    "# did not use travel time coefficients due to less congestion in Fayette county compared to Chicago."
   ]
  },
  {
   "cell_type": "code",
   "execution_count": 168,
   "metadata": {},
   "outputs": [],
   "source": [
    "otp = pd.merge(otp, distance, on=['ORIGIN', 'DESTINATION'])"
   ]
  },
  {
   "cell_type": "code",
   "execution_count": 169,
   "metadata": {},
   "outputs": [],
   "source": [
    "otp.loc[:, 'PRIVATE_TRAVEL_TIME'] = otp['TRAVEL_TIME_MINUTES']\n",
    "# for now, we only have one private travel time per day\n",
    "# otp.loc[:, 'AM_PRIVATE_TRAVEL_TIME'] = otp['TRAVEL_TIME_MINUTES']\n",
    "# otp.loc[:, 'MD_PRIVATE_TRAVEL_TIME'] = otp['TRAVEL_TIME_MINUTES']\n",
    "# otp.loc[:, 'PM_PRIVATE_TRAVEL_TIME'] = otp['TRAVEL_TIME_MINUTES']\n",
    "# otp.loc[:, 'EV_PRIVATE_TRAVEL_TIME'] = otp['TRAVEL_TIME_MINUTES']"
   ]
  },
  {
   "cell_type": "code",
   "execution_count": null,
   "metadata": {},
   "outputs": [],
   "source": []
  },
  {
   "cell_type": "code",
   "execution_count": 170,
   "metadata": {},
   "outputs": [],
   "source": [
    "# shared trips are calculated like this: (OTP travel times * shared travel time coefficients) / (private travel time coefficients)"
   ]
  },
  {
   "cell_type": "code",
   "execution_count": 171,
   "metadata": {},
   "outputs": [],
   "source": [
    "otp.loc[:, 'NT_SHARED_TRAVEL_TIME'] = otp['TRAVEL_TIME_MINUTES'] * (1.0293 / 0.8489)\n",
    "otp.loc[:, 'AM_SHARED_TRAVEL_TIME'] = otp['TRAVEL_TIME_MINUTES'] * (1.3786 / 1.1825)\n",
    "otp.loc[:, 'MD_SHARED_TRAVEL_TIME'] = otp['TRAVEL_TIME_MINUTES'] * (1.2462 / 1.1331)\n",
    "otp.loc[:, 'PM_SHARED_TRAVEL_TIME'] = otp['TRAVEL_TIME_MINUTES'] * (1.4132 / 1.2906)\n",
    "otp.loc[:, 'EV_SHARED_TRAVEL_TIME'] = otp['TRAVEL_TIME_MINUTES'] * (1.1053 / 0.9292)"
   ]
  },
  {
   "cell_type": "code",
   "execution_count": 172,
   "metadata": {},
   "outputs": [],
   "source": [
    "otp = otp[['ORIGIN', 'DESTINATION', 'walk_distance', 'TRAVEL_TIME_MINUTES', 'DISTANCE_IN_MILES', 'PRIVATE_TRAVEL_TIME', 'NT_SHARED_TRAVEL_TIME', 'AM_SHARED_TRAVEL_TIME', 'MD_SHARED_TRAVEL_TIME', 'PM_SHARED_TRAVEL_TIME', 'EV_SHARED_TRAVEL_TIME']]"
   ]
  },
  {
   "cell_type": "code",
   "execution_count": 173,
   "metadata": {},
   "outputs": [
    {
     "data": {
      "text/html": [
       "<div>\n",
       "<style scoped>\n",
       "    .dataframe tbody tr th:only-of-type {\n",
       "        vertical-align: middle;\n",
       "    }\n",
       "\n",
       "    .dataframe tbody tr th {\n",
       "        vertical-align: top;\n",
       "    }\n",
       "\n",
       "    .dataframe thead th {\n",
       "        text-align: right;\n",
       "    }\n",
       "</style>\n",
       "<table border=\"1\" class=\"dataframe\">\n",
       "  <thead>\n",
       "    <tr style=\"text-align: right;\">\n",
       "      <th></th>\n",
       "      <th>ORIGIN</th>\n",
       "      <th>DESTINATION</th>\n",
       "      <th>walk_distance</th>\n",
       "      <th>TRAVEL_TIME_MINUTES</th>\n",
       "      <th>DISTANCE_IN_MILES</th>\n",
       "      <th>PRIVATE_TRAVEL_TIME</th>\n",
       "      <th>NT_SHARED_TRAVEL_TIME</th>\n",
       "      <th>AM_SHARED_TRAVEL_TIME</th>\n",
       "      <th>MD_SHARED_TRAVEL_TIME</th>\n",
       "      <th>PM_SHARED_TRAVEL_TIME</th>\n",
       "      <th>EV_SHARED_TRAVEL_TIME</th>\n",
       "    </tr>\n",
       "  </thead>\n",
       "  <tbody>\n",
       "    <tr>\n",
       "      <th>0</th>\n",
       "      <td>2.106700e+10</td>\n",
       "      <td>2.106700e+10</td>\n",
       "      <td>48.0</td>\n",
       "      <td>0.600000</td>\n",
       "      <td>0.000000</td>\n",
       "      <td>0.600000</td>\n",
       "      <td>0.727506</td>\n",
       "      <td>0.699501</td>\n",
       "      <td>0.659889</td>\n",
       "      <td>0.656997</td>\n",
       "      <td>0.713711</td>\n",
       "    </tr>\n",
       "    <tr>\n",
       "      <th>1</th>\n",
       "      <td>2.106700e+10</td>\n",
       "      <td>2.106700e+10</td>\n",
       "      <td>55.0</td>\n",
       "      <td>6.233333</td>\n",
       "      <td>0.644906</td>\n",
       "      <td>6.233333</td>\n",
       "      <td>7.557981</td>\n",
       "      <td>7.267039</td>\n",
       "      <td>6.855511</td>\n",
       "      <td>6.825466</td>\n",
       "      <td>7.414661</td>\n",
       "    </tr>\n",
       "    <tr>\n",
       "      <th>2</th>\n",
       "      <td>2.106700e+10</td>\n",
       "      <td>2.106700e+10</td>\n",
       "      <td>77.0</td>\n",
       "      <td>10.383333</td>\n",
       "      <td>0.890833</td>\n",
       "      <td>10.383333</td>\n",
       "      <td>12.589899</td>\n",
       "      <td>12.105254</td>\n",
       "      <td>11.419742</td>\n",
       "      <td>11.369694</td>\n",
       "      <td>12.351160</td>\n",
       "    </tr>\n",
       "    <tr>\n",
       "      <th>3</th>\n",
       "      <td>2.106700e+10</td>\n",
       "      <td>2.106700e+10</td>\n",
       "      <td>40.0</td>\n",
       "      <td>8.950000</td>\n",
       "      <td>1.046286</td>\n",
       "      <td>8.950000</td>\n",
       "      <td>10.851967</td>\n",
       "      <td>10.434224</td>\n",
       "      <td>9.843341</td>\n",
       "      <td>9.800201</td>\n",
       "      <td>10.646185</td>\n",
       "    </tr>\n",
       "    <tr>\n",
       "      <th>4</th>\n",
       "      <td>2.106700e+10</td>\n",
       "      <td>2.106700e+10</td>\n",
       "      <td>NaN</td>\n",
       "      <td>7.533333</td>\n",
       "      <td>1.053952</td>\n",
       "      <td>7.533333</td>\n",
       "      <td>9.134244</td>\n",
       "      <td>8.782624</td>\n",
       "      <td>8.285270</td>\n",
       "      <td>8.248959</td>\n",
       "      <td>8.961035</td>\n",
       "    </tr>\n",
       "  </tbody>\n",
       "</table>\n",
       "</div>"
      ],
      "text/plain": [
       "         ORIGIN   DESTINATION  walk_distance  TRAVEL_TIME_MINUTES  \\\n",
       "0  2.106700e+10  2.106700e+10           48.0             0.600000   \n",
       "1  2.106700e+10  2.106700e+10           55.0             6.233333   \n",
       "2  2.106700e+10  2.106700e+10           77.0            10.383333   \n",
       "3  2.106700e+10  2.106700e+10           40.0             8.950000   \n",
       "4  2.106700e+10  2.106700e+10            NaN             7.533333   \n",
       "\n",
       "   DISTANCE_IN_MILES  PRIVATE_TRAVEL_TIME  NT_SHARED_TRAVEL_TIME  \\\n",
       "0           0.000000             0.600000               0.727506   \n",
       "1           0.644906             6.233333               7.557981   \n",
       "2           0.890833            10.383333              12.589899   \n",
       "3           1.046286             8.950000              10.851967   \n",
       "4           1.053952             7.533333               9.134244   \n",
       "\n",
       "   AM_SHARED_TRAVEL_TIME  MD_SHARED_TRAVEL_TIME  PM_SHARED_TRAVEL_TIME  \\\n",
       "0               0.699501               0.659889               0.656997   \n",
       "1               7.267039               6.855511               6.825466   \n",
       "2              12.105254              11.419742              11.369694   \n",
       "3              10.434224               9.843341               9.800201   \n",
       "4               8.782624               8.285270               8.248959   \n",
       "\n",
       "   EV_SHARED_TRAVEL_TIME  \n",
       "0               0.713711  \n",
       "1               7.414661  \n",
       "2              12.351160  \n",
       "3              10.646185  \n",
       "4               8.961035  "
      ]
     },
     "execution_count": 173,
     "metadata": {},
     "output_type": "execute_result"
    }
   ],
   "source": [
    "otp.head()"
   ]
  },
  {
   "cell_type": "code",
   "execution_count": 174,
   "metadata": {},
   "outputs": [],
   "source": [
    "otp.to_csv('E:/CR2/Repos/TNC-Demand-Model-Southeast/Cleaned_Inputs/Intermediate/priv_shared_traveltimes.csv')"
   ]
  },
  {
   "cell_type": "code",
   "execution_count": null,
   "metadata": {},
   "outputs": [],
   "source": []
  },
  {
   "cell_type": "code",
   "execution_count": null,
   "metadata": {},
   "outputs": [],
   "source": []
  },
  {
   "cell_type": "code",
   "execution_count": null,
   "metadata": {},
   "outputs": [],
   "source": []
  }
 ],
 "metadata": {
  "kernelspec": {
   "display_name": "Python 3 (ipykernel)",
   "language": "python",
   "name": "python3"
  },
  "language_info": {
   "codemirror_mode": {
    "name": "ipython",
    "version": 3
   },
   "file_extension": ".py",
   "mimetype": "text/x-python",
   "name": "python",
   "nbconvert_exporter": "python",
   "pygments_lexer": "ipython3",
   "version": "3.12.3"
  }
 },
 "nbformat": 4,
 "nbformat_minor": 4
}
