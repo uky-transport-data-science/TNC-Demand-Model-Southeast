{
 "cells": [
  {
   "cell_type": "code",
   "execution_count": 14,
   "id": "7b32fe78-0c61-4c02-ac9f-9d73b18879d0",
   "metadata": {},
   "outputs": [],
   "source": [
    "import pandas as pd\n",
    "import numpy as np\n",
    "import os"
   ]
  },
  {
   "cell_type": "code",
   "execution_count": 15,
   "id": "1b2b10fb-45b3-4a7b-85e9-9c18db2a84e2",
   "metadata": {},
   "outputs": [],
   "source": [
    "### Set working directory\n",
    "os.chdir('E:/CR2/Repos/TNC-Demand-Model-Southeast/')"
   ]
  },
  {
   "cell_type": "code",
   "execution_count": 16,
   "id": "cfc60164-2cd4-44b6-9a57-5ebbc82542b7",
   "metadata": {},
   "outputs": [],
   "source": [
    "pd.options.display.max_columns= 1000"
   ]
  },
  {
   "cell_type": "code",
   "execution_count": 17,
   "id": "0bbcaefc-b1fb-4529-9bf3-e064d059de96",
   "metadata": {},
   "outputs": [],
   "source": [
    "trips = pd.read_csv('Cleaned_Inputs/Intermediate/priv_shared_traveltimes.csv')"
   ]
  },
  {
   "cell_type": "code",
   "execution_count": 18,
   "id": "e1533888-0c91-4272-af36-2350186e9ce8",
   "metadata": {},
   "outputs": [],
   "source": [
    "# private trip fares using 1.9035 + (0.2892)(travel time in minutes) + (0.8822)(distance in miles)"
   ]
  },
  {
   "cell_type": "code",
   "execution_count": 19,
   "id": "c25b8935-2fe5-4b6d-b8ea-efd966c5f187",
   "metadata": {},
   "outputs": [],
   "source": [
    "# Calculating trip fares\n",
    "## Fares are a function of the number of travel time and distance.\n",
    "trips.loc[:, 'PRIVATE_TRIP_FARES'] = 1.9035 + (0.2892 * trips['PRIVATE_TRAVEL_TIME']) + (0.8822 * trips['distance_miles'])\n",
    "# for now we only have one private travel time per day\n",
    "# trips.loc[:, 'AM_PRIVATE_TRIP_FARES'] = 1.9035 + (0.2892 * trips['AM_PRIVATE_TRAVEL_TIME']) + (0.8822 * trips['DISTANCE_IN_MILES'])\n",
    "# trips.loc[:, 'MD_PRIVATE_TRIP_FARES'] = 1.9035 + (0.2892 * trips['MD_PRIVATE_TRAVEL_TIME']) + (0.8822 * trips['DISTANCE_IN_MILES'])\n",
    "# trips.loc[:, 'PM_PRIVATE_TRIP_FARES'] = 1.9035 + (0.2892 * trips['PM_PRIVATE_TRAVEL_TIME']) + (0.8822 * trips['DISTANCE_IN_MILES'])\n",
    "# trips.loc[:, 'EV_PRIVATE_TRIP_FARES'] = 1.9035 + (0.2892 * trips['EV_PRIVATE_TRAVEL_TIME']) + (0.8822 * trips['DISTANCE_IN_MILES'])"
   ]
  },
  {
   "cell_type": "code",
   "execution_count": 20,
   "id": "38bcc39d-6a5a-4be8-bacf-54c858c6065d",
   "metadata": {},
   "outputs": [],
   "source": [
    "# shared trip fares using 2.6496 + (0.06)(travel time in minutes) + (0.7349)(distance in miles)"
   ]
  },
  {
   "cell_type": "code",
   "execution_count": 21,
   "id": "f5d141a2-800d-4ba9-b004-33477e9b3d3c",
   "metadata": {},
   "outputs": [],
   "source": [
    "trips.loc[:, 'SHARED_TRIP_FARES'] = 2.6496 + (0.06 * trips['SHARED_TRAVEL_TIME']) + (0.7349 * trips['distance_miles'])\n",
    "#trips.loc[:, 'NT_SHARED_TRIP_FARES'] = 2.6496 + (0.06 * trips['NT_SHARED_TRAVEL_TIME']) + (0.7349 * trips['distance_miles'])\n",
    "#trips.loc[:, 'AM_SHARED_TRIP_FARES'] = 2.6496 + (0.06 * trips['AM_SHARED_TRAVEL_TIME']) + (0.7349* trips['distance_miles'])\n",
    "#trips.loc[:, 'MD_SHARED_TRIP_FARES'] = 2.6496 + (0.06 * trips['MD_SHARED_TRAVEL_TIME']) + (0.7349 * trips['distance_miles'])\n",
    "#trips.loc[:, 'PM_SHARED_TRIP_FARES'] = 2.6496 + (0.06 * trips['PM_SHARED_TRAVEL_TIME']) + (0.7349 * trips['distance_miles'])\n",
    "#trips.loc[:, 'EV_SHARED_TRIP_FARES'] = 2.6496 + (0.06 * trips['EV_SHARED_TRAVEL_TIME']) + (0.7349 * trips['distance_miles'])"
   ]
  },
  {
   "cell_type": "code",
   "execution_count": 22,
   "id": "d535c8bf-5140-48de-9d68-e1a1890cba86",
   "metadata": {},
   "outputs": [],
   "source": [
    "# Rename trips to fares\n",
    "fares = trips"
   ]
  },
  {
   "cell_type": "code",
   "execution_count": 23,
   "id": "ad3ddf6c-0a3d-4d9c-aaa3-de7e51413293",
   "metadata": {},
   "outputs": [
    {
     "data": {
      "text/html": [
       "<div>\n",
       "<style scoped>\n",
       "    .dataframe tbody tr th:only-of-type {\n",
       "        vertical-align: middle;\n",
       "    }\n",
       "\n",
       "    .dataframe tbody tr th {\n",
       "        vertical-align: top;\n",
       "    }\n",
       "\n",
       "    .dataframe thead th {\n",
       "        text-align: right;\n",
       "    }\n",
       "</style>\n",
       "<table border=\"1\" class=\"dataframe\">\n",
       "  <thead>\n",
       "    <tr style=\"text-align: right;\">\n",
       "      <th></th>\n",
       "      <th>origin</th>\n",
       "      <th>destination</th>\n",
       "      <th>travel_time_min</th>\n",
       "      <th>distance_miles</th>\n",
       "      <th>PRIVATE_TRAVEL_TIME</th>\n",
       "      <th>SHARED_TRAVEL_TIME</th>\n",
       "      <th>PRIVATE_TRIP_FARES</th>\n",
       "      <th>SHARED_TRIP_FARES</th>\n",
       "    </tr>\n",
       "  </thead>\n",
       "  <tbody>\n",
       "    <tr>\n",
       "      <th>0</th>\n",
       "      <td>21067003802</td>\n",
       "      <td>21067004007</td>\n",
       "      <td>40.016667</td>\n",
       "      <td>20.158829</td>\n",
       "      <td>40.016667</td>\n",
       "      <td>44.016667</td>\n",
       "      <td>31.260439</td>\n",
       "      <td>20.105323</td>\n",
       "    </tr>\n",
       "    <tr>\n",
       "      <th>1</th>\n",
       "      <td>21067004007</td>\n",
       "      <td>21067003802</td>\n",
       "      <td>36.616667</td>\n",
       "      <td>24.871705</td>\n",
       "      <td>36.616667</td>\n",
       "      <td>40.616667</td>\n",
       "      <td>34.434858</td>\n",
       "      <td>23.364816</td>\n",
       "    </tr>\n",
       "    <tr>\n",
       "      <th>2</th>\n",
       "      <td>21067004007</td>\n",
       "      <td>21067003701</td>\n",
       "      <td>40.533333</td>\n",
       "      <td>22.877503</td>\n",
       "      <td>40.533333</td>\n",
       "      <td>44.533333</td>\n",
       "      <td>33.808273</td>\n",
       "      <td>22.134277</td>\n",
       "    </tr>\n",
       "    <tr>\n",
       "      <th>3</th>\n",
       "      <td>21067003701</td>\n",
       "      <td>21067004007</td>\n",
       "      <td>38.750000</td>\n",
       "      <td>22.608280</td>\n",
       "      <td>38.750000</td>\n",
       "      <td>42.750000</td>\n",
       "      <td>33.055025</td>\n",
       "      <td>21.829425</td>\n",
       "    </tr>\n",
       "    <tr>\n",
       "      <th>4</th>\n",
       "      <td>21067004207</td>\n",
       "      <td>21067003918</td>\n",
       "      <td>32.583333</td>\n",
       "      <td>19.840966</td>\n",
       "      <td>32.583333</td>\n",
       "      <td>36.583333</td>\n",
       "      <td>28.830300</td>\n",
       "      <td>19.425726</td>\n",
       "    </tr>\n",
       "  </tbody>\n",
       "</table>\n",
       "</div>"
      ],
      "text/plain": [
       "        origin  destination  travel_time_min  distance_miles  \\\n",
       "0  21067003802  21067004007        40.016667       20.158829   \n",
       "1  21067004007  21067003802        36.616667       24.871705   \n",
       "2  21067004007  21067003701        40.533333       22.877503   \n",
       "3  21067003701  21067004007        38.750000       22.608280   \n",
       "4  21067004207  21067003918        32.583333       19.840966   \n",
       "\n",
       "   PRIVATE_TRAVEL_TIME  SHARED_TRAVEL_TIME  PRIVATE_TRIP_FARES  \\\n",
       "0            40.016667           44.016667           31.260439   \n",
       "1            36.616667           40.616667           34.434858   \n",
       "2            40.533333           44.533333           33.808273   \n",
       "3            38.750000           42.750000           33.055025   \n",
       "4            32.583333           36.583333           28.830300   \n",
       "\n",
       "   SHARED_TRIP_FARES  \n",
       "0          20.105323  \n",
       "1          23.364816  \n",
       "2          22.134277  \n",
       "3          21.829425  \n",
       "4          19.425726  "
      ]
     },
     "execution_count": 23,
     "metadata": {},
     "output_type": "execute_result"
    }
   ],
   "source": [
    "fares = fares.iloc[: , 1:]\n",
    "fares.head()"
   ]
  },
  {
   "cell_type": "code",
   "execution_count": 24,
   "id": "0525794b-2b56-41b3-a17a-7a75efd51fd9",
   "metadata": {},
   "outputs": [],
   "source": [
    "# Write fares to CSV\n",
    "fares.to_csv('Cleaned_Inputs/Intermediate/fares_and_times.csv', index = False)"
   ]
  }
 ],
 "metadata": {
  "kernelspec": {
   "display_name": "Python 3 (ipykernel)",
   "language": "python",
   "name": "python3"
  },
  "language_info": {
   "codemirror_mode": {
    "name": "ipython",
    "version": 3
   },
   "file_extension": ".py",
   "mimetype": "text/x-python",
   "name": "python",
   "nbconvert_exporter": "python",
   "pygments_lexer": "ipython3",
   "version": "3.12.3"
  }
 },
 "nbformat": 4,
 "nbformat_minor": 5
}
